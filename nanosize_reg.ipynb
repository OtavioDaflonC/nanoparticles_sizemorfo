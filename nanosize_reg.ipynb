{
  "cells": [
    {
      "cell_type": "markdown",
      "metadata": {
        "id": "IUumf5sCF58J"
      },
      "source": [
        "## Dataset preparação\n"
      ]
    },
    {
      "cell_type": "code",
      "execution_count": 120,
      "metadata": {
        "id": "5LWGWHTx50A5"
      },
      "outputs": [],
      "source": [
        "import pandas as pd\n",
        "import numpy as np\n",
        "from matplotlib import pyplot as plt\n",
        "import seaborn as sns\n",
        "\n",
        "\n",
        "from sklearn.metrics import (ConfusionMatrixDisplay, PrecisionRecallDisplay,\n",
        "                             RocCurveDisplay, accuracy_score,\n",
        "                             classification_report, confusion_matrix)\n",
        "from sklearn.preprocessing import LabelEncoder, OneHotEncoder, OrdinalEncoder"
      ]
    },
    {
      "cell_type": "code",
      "execution_count": 121,
      "metadata": {
        "id": "MSjzNfqIX2B9"
      },
      "outputs": [],
      "source": [
        "def Ler_aba(drive_adress,index_aba=0):\n",
        "  \"\"\" Recebe o endereço no drive da planilha excel e o index \n",
        "  da aba específica (Primeira aba de Default) e retona o dataframe padrão\"\"\"\n",
        "  \n",
        "  df=pd.read_excel(drive_adress,sheet_name=index_aba) \n",
        "\n",
        "  return df"
      ]
    },
    {
      "cell_type": "code",
      "execution_count": 122,
      "metadata": {
        "id": "LvSvM5WW_Sbw"
      },
      "outputs": [],
      "source": [
        "df = Ler_aba('data/nova_intermediaria_nano.xlsx',0) "
      ]
    },
    {
      "cell_type": "code",
      "execution_count": 123,
      "metadata": {
        "colab": {
          "base_uri": "https://localhost:8080/"
        },
        "id": "k5aFCvpqWzYy",
        "outputId": "0c9aacde-a09b-420a-bd4d-5d14ebabacc0"
      },
      "outputs": [
        {
          "data": {
            "text/plain": [
              "Index(['DOI', 'Volume (mL)', 'Total Volume (%)', 'Weight TiO2 (g)', 'mol TiO2',\n",
              "       '% TiO2', '[TiO2] (g/mL)', 'Proportion TiO2/NaOH',\n",
              "       'Normalize Proportion TiO2/NaOH', 'mol NaOH', 'Vol NaOH', '[NaOH]',\n",
              "       'Temperature (C)', 'Time (h)', 'Washed', 'Washed Time',\n",
              "       'Dried Temperature ©', 'Dried Time (h)', 'Calcinate Temperature',\n",
              "       'Calcinate Time', 'Morphology', 'Size (nm)'],\n",
              "      dtype='object')"
            ]
          },
          "execution_count": 123,
          "metadata": {},
          "output_type": "execute_result"
        }
      ],
      "source": [
        "df.columns"
      ]
    },
    {
      "cell_type": "code",
      "execution_count": 124,
      "metadata": {
        "colab": {
          "base_uri": "https://localhost:8080/",
          "height": 211
        },
        "id": "s67Yi5T-ZDc7",
        "outputId": "afb4b9f3-796e-4f09-cf6a-bb3683d49f46"
      },
      "outputs": [
        {
          "data": {
            "text/html": [
              "<div>\n",
              "<style scoped>\n",
              "    .dataframe tbody tr th:only-of-type {\n",
              "        vertical-align: middle;\n",
              "    }\n",
              "\n",
              "    .dataframe tbody tr th {\n",
              "        vertical-align: top;\n",
              "    }\n",
              "\n",
              "    .dataframe thead th {\n",
              "        text-align: right;\n",
              "    }\n",
              "</style>\n",
              "<table border=\"1\" class=\"dataframe\">\n",
              "  <thead>\n",
              "    <tr style=\"text-align: right;\">\n",
              "      <th></th>\n",
              "      <th>DOI</th>\n",
              "      <th>Volume (mL)</th>\n",
              "      <th>Total Volume (%)</th>\n",
              "      <th>Weight TiO2 (g)</th>\n",
              "      <th>mol TiO2</th>\n",
              "      <th>% TiO2</th>\n",
              "      <th>[TiO2] (g/mL)</th>\n",
              "      <th>Proportion TiO2/NaOH</th>\n",
              "      <th>Normalize Proportion TiO2/NaOH</th>\n",
              "      <th>mol NaOH</th>\n",
              "      <th>...</th>\n",
              "      <th>Temperature (C)</th>\n",
              "      <th>Time (h)</th>\n",
              "      <th>Washed</th>\n",
              "      <th>Washed Time</th>\n",
              "      <th>Dried Temperature ©</th>\n",
              "      <th>Dried Time (h)</th>\n",
              "      <th>Calcinate Temperature</th>\n",
              "      <th>Calcinate Time</th>\n",
              "      <th>Morphology</th>\n",
              "      <th>Size (nm)</th>\n",
              "    </tr>\n",
              "  </thead>\n",
              "  <tbody>\n",
              "    <tr>\n",
              "      <th>77</th>\n",
              "      <td>10.1002/zaac.200801322</td>\n",
              "      <td>x</td>\n",
              "      <td>NaN</td>\n",
              "      <td>0.2</td>\n",
              "      <td>0.002504</td>\n",
              "      <td>0.00626</td>\n",
              "      <td>0.02</td>\n",
              "      <td>0.000063</td>\n",
              "      <td>#NUM!</td>\n",
              "      <td>40</td>\n",
              "      <td>...</td>\n",
              "      <td>220.0</td>\n",
              "      <td>48.0</td>\n",
              "      <td>Water</td>\n",
              "      <td>NaN</td>\n",
              "      <td>NaN</td>\n",
              "      <td>NaN</td>\n",
              "      <td>25.0</td>\n",
              "      <td>NaN</td>\n",
              "      <td>Flower</td>\n",
              "      <td>10000.0</td>\n",
              "    </tr>\n",
              "    <tr>\n",
              "      <th>78</th>\n",
              "      <td>10.1002/zaac.200801322</td>\n",
              "      <td>x</td>\n",
              "      <td>NaN</td>\n",
              "      <td>0.2</td>\n",
              "      <td>0.002504</td>\n",
              "      <td>0.012519</td>\n",
              "      <td>0.02</td>\n",
              "      <td>0.000125</td>\n",
              "      <td>#NUM!</td>\n",
              "      <td>20</td>\n",
              "      <td>...</td>\n",
              "      <td>220.0</td>\n",
              "      <td>48.0</td>\n",
              "      <td>Water</td>\n",
              "      <td>NaN</td>\n",
              "      <td>NaN</td>\n",
              "      <td>NaN</td>\n",
              "      <td>25.0</td>\n",
              "      <td>NaN</td>\n",
              "      <td>Urchin</td>\n",
              "      <td>10000.0</td>\n",
              "    </tr>\n",
              "  </tbody>\n",
              "</table>\n",
              "<p>2 rows × 22 columns</p>\n",
              "</div>"
            ],
            "text/plain": [
              "                       DOI Volume (mL)  Total Volume (%)  Weight TiO2 (g)  \\\n",
              "77  10.1002/zaac.200801322           x               NaN              0.2   \n",
              "78  10.1002/zaac.200801322           x               NaN              0.2   \n",
              "\n",
              "    mol TiO2    % TiO2 [TiO2] (g/mL) Proportion TiO2/NaOH  \\\n",
              "77  0.002504   0.00626          0.02             0.000063   \n",
              "78  0.002504  0.012519          0.02             0.000125   \n",
              "\n",
              "   Normalize Proportion TiO2/NaOH mol NaOH  ...  Temperature (C)  Time (h)  \\\n",
              "77                          #NUM!       40  ...            220.0      48.0   \n",
              "78                          #NUM!       20  ...            220.0      48.0   \n",
              "\n",
              "    Washed  Washed Time Dried Temperature ©  Dried Time (h)  \\\n",
              "77   Water          NaN                 NaN             NaN   \n",
              "78   Water          NaN                 NaN             NaN   \n",
              "\n",
              "    Calcinate Temperature  Calcinate Time  Morphology  Size (nm)  \n",
              "77                   25.0             NaN      Flower    10000.0  \n",
              "78                   25.0             NaN      Urchin    10000.0  \n",
              "\n",
              "[2 rows x 22 columns]"
            ]
          },
          "execution_count": 124,
          "metadata": {},
          "output_type": "execute_result"
        }
      ],
      "source": [
        "df[df['Size (nm)'] == 10000]"
      ]
    },
    {
      "cell_type": "code",
      "execution_count": 125,
      "metadata": {
        "id": "JrxkzN29F2Eh"
      },
      "outputs": [],
      "source": [
        "df = df.drop(df[df['Size (nm)'] == 10000].index,inplace=False) #limpando enormes\n"
      ]
    },
    {
      "cell_type": "code",
      "execution_count": 126,
      "metadata": {},
      "outputs": [
        {
          "data": {
            "text/html": [
              "<div>\n",
              "<style scoped>\n",
              "    .dataframe tbody tr th:only-of-type {\n",
              "        vertical-align: middle;\n",
              "    }\n",
              "\n",
              "    .dataframe tbody tr th {\n",
              "        vertical-align: top;\n",
              "    }\n",
              "\n",
              "    .dataframe thead th {\n",
              "        text-align: right;\n",
              "    }\n",
              "</style>\n",
              "<table border=\"1\" class=\"dataframe\">\n",
              "  <thead>\n",
              "    <tr style=\"text-align: right;\">\n",
              "      <th></th>\n",
              "      <th>DOI</th>\n",
              "      <th>Volume (mL)</th>\n",
              "      <th>Total Volume (%)</th>\n",
              "      <th>Weight TiO2 (g)</th>\n",
              "      <th>mol TiO2</th>\n",
              "      <th>% TiO2</th>\n",
              "      <th>[TiO2] (g/mL)</th>\n",
              "      <th>Proportion TiO2/NaOH</th>\n",
              "      <th>Normalize Proportion TiO2/NaOH</th>\n",
              "      <th>mol NaOH</th>\n",
              "      <th>...</th>\n",
              "      <th>Temperature (C)</th>\n",
              "      <th>Time (h)</th>\n",
              "      <th>Washed</th>\n",
              "      <th>Washed Time</th>\n",
              "      <th>Dried Temperature ©</th>\n",
              "      <th>Dried Time (h)</th>\n",
              "      <th>Calcinate Temperature</th>\n",
              "      <th>Calcinate Time</th>\n",
              "      <th>Morphology</th>\n",
              "      <th>Size (nm)</th>\n",
              "    </tr>\n",
              "  </thead>\n",
              "  <tbody>\n",
              "    <tr>\n",
              "      <th>117</th>\n",
              "      <td>10.1016/j.heliyon.2017.e00456</td>\n",
              "      <td>NaN</td>\n",
              "      <td>NaN</td>\n",
              "      <td>0.30</td>\n",
              "      <td>#ERROR!</td>\n",
              "      <td>#ERROR!</td>\n",
              "      <td>#ERROR!</td>\n",
              "      <td>#ERROR!</td>\n",
              "      <td>NaN</td>\n",
              "      <td>#ERROR!</td>\n",
              "      <td>...</td>\n",
              "      <td>110.0</td>\n",
              "      <td>72.0</td>\n",
              "      <td>0.1 HCl</td>\n",
              "      <td>3.0</td>\n",
              "      <td>80.0</td>\n",
              "      <td>24.0</td>\n",
              "      <td>NaN</td>\n",
              "      <td>2.0</td>\n",
              "      <td>Tube</td>\n",
              "      <td>NaN</td>\n",
              "    </tr>\n",
              "    <tr>\n",
              "      <th>118</th>\n",
              "      <td>10.1016/j.molcata.2006.01.003</td>\n",
              "      <td>200.0</td>\n",
              "      <td>NaN</td>\n",
              "      <td>1.50</td>\n",
              "      <td>#ERROR!</td>\n",
              "      <td>#ERROR!</td>\n",
              "      <td>#ERROR!</td>\n",
              "      <td>#ERROR!</td>\n",
              "      <td>NaN</td>\n",
              "      <td>#ERROR!</td>\n",
              "      <td>...</td>\n",
              "      <td>150.0</td>\n",
              "      <td>48.0</td>\n",
              "      <td>0.1 HCl</td>\n",
              "      <td>NaN</td>\n",
              "      <td>80.0</td>\n",
              "      <td>8.0</td>\n",
              "      <td>NaN</td>\n",
              "      <td>2.0</td>\n",
              "      <td>Tube</td>\n",
              "      <td>NaN</td>\n",
              "    </tr>\n",
              "    <tr>\n",
              "      <th>119</th>\n",
              "      <td>10.1021/jp047113f</td>\n",
              "      <td>x</td>\n",
              "      <td>NaN</td>\n",
              "      <td>8.00</td>\n",
              "      <td>0.100168</td>\n",
              "      <td>0.043532</td>\n",
              "      <td>0.347826</td>\n",
              "      <td>0.000436</td>\n",
              "      <td>#NUM!</td>\n",
              "      <td>230</td>\n",
              "      <td>...</td>\n",
              "      <td>150.0</td>\n",
              "      <td>72.0</td>\n",
              "      <td>0.1 HCl</td>\n",
              "      <td>0.1</td>\n",
              "      <td>NaN</td>\n",
              "      <td>NaN</td>\n",
              "      <td>25.0</td>\n",
              "      <td>NaN</td>\n",
              "      <td>Tube</td>\n",
              "      <td>8-15</td>\n",
              "    </tr>\n",
              "    <tr>\n",
              "      <th>120</th>\n",
              "      <td>10.1088/0957-4484/16/9/086</td>\n",
              "      <td>200.0</td>\n",
              "      <td>NaN</td>\n",
              "      <td>3.00</td>\n",
              "      <td>#ERROR!</td>\n",
              "      <td>#ERROR!</td>\n",
              "      <td>#ERROR!</td>\n",
              "      <td>#ERROR!</td>\n",
              "      <td>NaN</td>\n",
              "      <td>#ERROR!</td>\n",
              "      <td>...</td>\n",
              "      <td>120.0</td>\n",
              "      <td>30.0</td>\n",
              "      <td>NaN</td>\n",
              "      <td>2.0</td>\n",
              "      <td>110.0</td>\n",
              "      <td>NaN</td>\n",
              "      <td>1000.0</td>\n",
              "      <td>NaN</td>\n",
              "      <td>NaN</td>\n",
              "      <td>NaN</td>\n",
              "    </tr>\n",
              "    <tr>\n",
              "      <th>121</th>\n",
              "      <td>10.1021/jp104044j</td>\n",
              "      <td>NaN</td>\n",
              "      <td>NaN</td>\n",
              "      <td>0.25</td>\n",
              "      <td>#ERROR!</td>\n",
              "      <td>#ERROR!</td>\n",
              "      <td>#ERROR!</td>\n",
              "      <td>#ERROR!</td>\n",
              "      <td>NaN</td>\n",
              "      <td>#ERROR!</td>\n",
              "      <td>...</td>\n",
              "      <td>150.0</td>\n",
              "      <td>12.0</td>\n",
              "      <td>0.1 HCl</td>\n",
              "      <td>NaN</td>\n",
              "      <td>70.0</td>\n",
              "      <td>20.0</td>\n",
              "      <td>600.0</td>\n",
              "      <td>2.0</td>\n",
              "      <td>Tube</td>\n",
              "      <td>10-7</td>\n",
              "    </tr>\n",
              "    <tr>\n",
              "      <th>122</th>\n",
              "      <td>10.1021/am2008568</td>\n",
              "      <td>NaN</td>\n",
              "      <td>NaN</td>\n",
              "      <td>0.50</td>\n",
              "      <td>#ERROR!</td>\n",
              "      <td>#ERROR!</td>\n",
              "      <td>#ERROR!</td>\n",
              "      <td>#ERROR!</td>\n",
              "      <td>NaN</td>\n",
              "      <td>#ERROR!</td>\n",
              "      <td>...</td>\n",
              "      <td>200.0</td>\n",
              "      <td>24.0</td>\n",
              "      <td>0.1 HCl</td>\n",
              "      <td>NaN</td>\n",
              "      <td>-57.0</td>\n",
              "      <td>NaN</td>\n",
              "      <td>NaN</td>\n",
              "      <td>2.0</td>\n",
              "      <td>Belt</td>\n",
              "      <td>10-100</td>\n",
              "    </tr>\n",
              "    <tr>\n",
              "      <th>123</th>\n",
              "      <td>10.1088/0957-4484/19/27/275604</td>\n",
              "      <td>NaN</td>\n",
              "      <td>NaN</td>\n",
              "      <td>3.00</td>\n",
              "      <td>#ERROR!</td>\n",
              "      <td>#ERROR!</td>\n",
              "      <td>#ERROR!</td>\n",
              "      <td>#ERROR!</td>\n",
              "      <td>NaN</td>\n",
              "      <td>#ERROR!</td>\n",
              "      <td>...</td>\n",
              "      <td>100.0</td>\n",
              "      <td>48.0</td>\n",
              "      <td>0.1 HCl</td>\n",
              "      <td>0.5</td>\n",
              "      <td>12.0</td>\n",
              "      <td>NaN</td>\n",
              "      <td>NaN</td>\n",
              "      <td>NaN</td>\n",
              "      <td>Tube</td>\n",
              "      <td>10</td>\n",
              "    </tr>\n",
              "    <tr>\n",
              "      <th>124</th>\n",
              "      <td>10.1557/jmr.2004.19.2.417</td>\n",
              "      <td>NaN</td>\n",
              "      <td>NaN</td>\n",
              "      <td>2.00</td>\n",
              "      <td>#ERROR!</td>\n",
              "      <td>#ERROR!</td>\n",
              "      <td>#ERROR!</td>\n",
              "      <td>#ERROR!</td>\n",
              "      <td>NaN</td>\n",
              "      <td>#ERROR!</td>\n",
              "      <td>...</td>\n",
              "      <td>180.0</td>\n",
              "      <td>30.0</td>\n",
              "      <td>0.1 HCl</td>\n",
              "      <td>NaN</td>\n",
              "      <td>NaN</td>\n",
              "      <td>NaN</td>\n",
              "      <td>500.0</td>\n",
              "      <td>5.0</td>\n",
              "      <td>Tube</td>\n",
              "      <td>8-10</td>\n",
              "    </tr>\n",
              "    <tr>\n",
              "      <th>125</th>\n",
              "      <td>10.1016/j.cattod.2007.10.015</td>\n",
              "      <td>NaN</td>\n",
              "      <td>NaN</td>\n",
              "      <td>NaN</td>\n",
              "      <td>#ERROR!</td>\n",
              "      <td>#ERROR!</td>\n",
              "      <td>#ERROR!</td>\n",
              "      <td>#ERROR!</td>\n",
              "      <td>NaN</td>\n",
              "      <td>#ERROR!</td>\n",
              "      <td>...</td>\n",
              "      <td>150.0</td>\n",
              "      <td>48.0</td>\n",
              "      <td>0.1 HCl</td>\n",
              "      <td>NaN</td>\n",
              "      <td>NaN</td>\n",
              "      <td>NaN</td>\n",
              "      <td>NaN</td>\n",
              "      <td>2.0</td>\n",
              "      <td>Tube</td>\n",
              "      <td>6-10</td>\n",
              "    </tr>\n",
              "    <tr>\n",
              "      <th>126</th>\n",
              "      <td>10.1016/j.jallcom.2009.10.030</td>\n",
              "      <td>NaN</td>\n",
              "      <td>NaN</td>\n",
              "      <td>NaN</td>\n",
              "      <td>#ERROR!</td>\n",
              "      <td>#ERROR!</td>\n",
              "      <td>#ERROR!</td>\n",
              "      <td>#ERROR!</td>\n",
              "      <td>NaN</td>\n",
              "      <td>#ERROR!</td>\n",
              "      <td>...</td>\n",
              "      <td>110.0</td>\n",
              "      <td>24.0</td>\n",
              "      <td>0.1 HCl</td>\n",
              "      <td>1.0</td>\n",
              "      <td>100.0</td>\n",
              "      <td>NaN</td>\n",
              "      <td>25.0</td>\n",
              "      <td>2.0</td>\n",
              "      <td>Rod</td>\n",
              "      <td>50</td>\n",
              "    </tr>\n",
              "  </tbody>\n",
              "</table>\n",
              "<p>10 rows × 22 columns</p>\n",
              "</div>"
            ],
            "text/plain": [
              "                                DOI Volume (mL)  Total Volume (%)  \\\n",
              "117   10.1016/j.heliyon.2017.e00456         NaN               NaN   \n",
              "118   10.1016/j.molcata.2006.01.003       200.0               NaN   \n",
              "119               10.1021/jp047113f           x               NaN   \n",
              "120      10.1088/0957-4484/16/9/086       200.0               NaN   \n",
              "121               10.1021/jp104044j         NaN               NaN   \n",
              "122               10.1021/am2008568         NaN               NaN   \n",
              "123  10.1088/0957-4484/19/27/275604         NaN               NaN   \n",
              "124       10.1557/jmr.2004.19.2.417         NaN               NaN   \n",
              "125    10.1016/j.cattod.2007.10.015         NaN               NaN   \n",
              "126   10.1016/j.jallcom.2009.10.030         NaN               NaN   \n",
              "\n",
              "     Weight TiO2 (g)  mol TiO2    % TiO2 [TiO2] (g/mL) Proportion TiO2/NaOH  \\\n",
              "117             0.30   #ERROR!   #ERROR!       #ERROR!              #ERROR!   \n",
              "118             1.50   #ERROR!   #ERROR!       #ERROR!              #ERROR!   \n",
              "119             8.00  0.100168  0.043532      0.347826             0.000436   \n",
              "120             3.00   #ERROR!   #ERROR!       #ERROR!              #ERROR!   \n",
              "121             0.25   #ERROR!   #ERROR!       #ERROR!              #ERROR!   \n",
              "122             0.50   #ERROR!   #ERROR!       #ERROR!              #ERROR!   \n",
              "123             3.00   #ERROR!   #ERROR!       #ERROR!              #ERROR!   \n",
              "124             2.00   #ERROR!   #ERROR!       #ERROR!              #ERROR!   \n",
              "125              NaN   #ERROR!   #ERROR!       #ERROR!              #ERROR!   \n",
              "126              NaN   #ERROR!   #ERROR!       #ERROR!              #ERROR!   \n",
              "\n",
              "    Normalize Proportion TiO2/NaOH mol NaOH  ...  Temperature (C)  Time (h)  \\\n",
              "117                            NaN  #ERROR!  ...            110.0      72.0   \n",
              "118                            NaN  #ERROR!  ...            150.0      48.0   \n",
              "119                          #NUM!      230  ...            150.0      72.0   \n",
              "120                            NaN  #ERROR!  ...            120.0      30.0   \n",
              "121                            NaN  #ERROR!  ...            150.0      12.0   \n",
              "122                            NaN  #ERROR!  ...            200.0      24.0   \n",
              "123                            NaN  #ERROR!  ...            100.0      48.0   \n",
              "124                            NaN  #ERROR!  ...            180.0      30.0   \n",
              "125                            NaN  #ERROR!  ...            150.0      48.0   \n",
              "126                            NaN  #ERROR!  ...            110.0      24.0   \n",
              "\n",
              "      Washed  Washed Time Dried Temperature ©  Dried Time (h)  \\\n",
              "117  0.1 HCl          3.0                80.0            24.0   \n",
              "118  0.1 HCl          NaN                80.0             8.0   \n",
              "119  0.1 HCl          0.1                 NaN             NaN   \n",
              "120      NaN          2.0               110.0             NaN   \n",
              "121  0.1 HCl          NaN                70.0            20.0   \n",
              "122  0.1 HCl          NaN               -57.0             NaN   \n",
              "123  0.1 HCl          0.5                12.0             NaN   \n",
              "124  0.1 HCl          NaN                 NaN             NaN   \n",
              "125  0.1 HCl          NaN                 NaN             NaN   \n",
              "126  0.1 HCl          1.0               100.0             NaN   \n",
              "\n",
              "     Calcinate Temperature  Calcinate Time  Morphology  Size (nm)  \n",
              "117                    NaN             2.0        Tube        NaN  \n",
              "118                    NaN             2.0        Tube        NaN  \n",
              "119                   25.0             NaN        Tube       8-15  \n",
              "120                 1000.0             NaN         NaN        NaN  \n",
              "121                  600.0             2.0        Tube       10-7  \n",
              "122                    NaN             2.0        Belt     10-100  \n",
              "123                    NaN             NaN        Tube         10  \n",
              "124                  500.0             5.0        Tube       8-10  \n",
              "125                    NaN             2.0        Tube       6-10  \n",
              "126                   25.0             2.0         Rod         50  \n",
              "\n",
              "[10 rows x 22 columns]"
            ]
          },
          "execution_count": 126,
          "metadata": {},
          "output_type": "execute_result"
        }
      ],
      "source": [
        "df.tail(10)"
      ]
    },
    {
      "cell_type": "code",
      "execution_count": 127,
      "metadata": {
        "id": "DhByrYmRc-pC"
      },
      "outputs": [],
      "source": [
        "df = df.reset_index(drop=True)\n",
        "df = df.reindex([i for i in range(df.index.shape[0])])"
      ]
    },
    {
      "cell_type": "code",
      "execution_count": 128,
      "metadata": {},
      "outputs": [
        {
          "data": {
            "text/html": [
              "<div>\n",
              "<style scoped>\n",
              "    .dataframe tbody tr th:only-of-type {\n",
              "        vertical-align: middle;\n",
              "    }\n",
              "\n",
              "    .dataframe tbody tr th {\n",
              "        vertical-align: top;\n",
              "    }\n",
              "\n",
              "    .dataframe thead th {\n",
              "        text-align: right;\n",
              "    }\n",
              "</style>\n",
              "<table border=\"1\" class=\"dataframe\">\n",
              "  <thead>\n",
              "    <tr style=\"text-align: right;\">\n",
              "      <th></th>\n",
              "      <th>DOI</th>\n",
              "      <th>Volume (mL)</th>\n",
              "      <th>Total Volume (%)</th>\n",
              "      <th>Weight TiO2 (g)</th>\n",
              "      <th>mol TiO2</th>\n",
              "      <th>% TiO2</th>\n",
              "      <th>[TiO2] (g/mL)</th>\n",
              "      <th>Proportion TiO2/NaOH</th>\n",
              "      <th>Normalize Proportion TiO2/NaOH</th>\n",
              "      <th>mol NaOH</th>\n",
              "      <th>...</th>\n",
              "      <th>Temperature (C)</th>\n",
              "      <th>Time (h)</th>\n",
              "      <th>Washed</th>\n",
              "      <th>Washed Time</th>\n",
              "      <th>Dried Temperature ©</th>\n",
              "      <th>Dried Time (h)</th>\n",
              "      <th>Calcinate Temperature</th>\n",
              "      <th>Calcinate Time</th>\n",
              "      <th>Morphology</th>\n",
              "      <th>Size (nm)</th>\n",
              "    </tr>\n",
              "  </thead>\n",
              "  <tbody>\n",
              "    <tr>\n",
              "      <th>115</th>\n",
              "      <td>10.1016/j.heliyon.2017.e00456</td>\n",
              "      <td>NaN</td>\n",
              "      <td>NaN</td>\n",
              "      <td>0.30</td>\n",
              "      <td>#ERROR!</td>\n",
              "      <td>#ERROR!</td>\n",
              "      <td>#ERROR!</td>\n",
              "      <td>#ERROR!</td>\n",
              "      <td>NaN</td>\n",
              "      <td>#ERROR!</td>\n",
              "      <td>...</td>\n",
              "      <td>110.0</td>\n",
              "      <td>72.0</td>\n",
              "      <td>0.1 HCl</td>\n",
              "      <td>3.0</td>\n",
              "      <td>80.0</td>\n",
              "      <td>24.0</td>\n",
              "      <td>NaN</td>\n",
              "      <td>2.0</td>\n",
              "      <td>Tube</td>\n",
              "      <td>NaN</td>\n",
              "    </tr>\n",
              "    <tr>\n",
              "      <th>116</th>\n",
              "      <td>10.1016/j.molcata.2006.01.003</td>\n",
              "      <td>200.0</td>\n",
              "      <td>NaN</td>\n",
              "      <td>1.50</td>\n",
              "      <td>#ERROR!</td>\n",
              "      <td>#ERROR!</td>\n",
              "      <td>#ERROR!</td>\n",
              "      <td>#ERROR!</td>\n",
              "      <td>NaN</td>\n",
              "      <td>#ERROR!</td>\n",
              "      <td>...</td>\n",
              "      <td>150.0</td>\n",
              "      <td>48.0</td>\n",
              "      <td>0.1 HCl</td>\n",
              "      <td>NaN</td>\n",
              "      <td>80.0</td>\n",
              "      <td>8.0</td>\n",
              "      <td>NaN</td>\n",
              "      <td>2.0</td>\n",
              "      <td>Tube</td>\n",
              "      <td>NaN</td>\n",
              "    </tr>\n",
              "    <tr>\n",
              "      <th>117</th>\n",
              "      <td>10.1021/jp047113f</td>\n",
              "      <td>x</td>\n",
              "      <td>NaN</td>\n",
              "      <td>8.00</td>\n",
              "      <td>0.100168</td>\n",
              "      <td>0.043532</td>\n",
              "      <td>0.347826</td>\n",
              "      <td>0.000436</td>\n",
              "      <td>#NUM!</td>\n",
              "      <td>230</td>\n",
              "      <td>...</td>\n",
              "      <td>150.0</td>\n",
              "      <td>72.0</td>\n",
              "      <td>0.1 HCl</td>\n",
              "      <td>0.1</td>\n",
              "      <td>NaN</td>\n",
              "      <td>NaN</td>\n",
              "      <td>25.0</td>\n",
              "      <td>NaN</td>\n",
              "      <td>Tube</td>\n",
              "      <td>8-15</td>\n",
              "    </tr>\n",
              "    <tr>\n",
              "      <th>118</th>\n",
              "      <td>10.1088/0957-4484/16/9/086</td>\n",
              "      <td>200.0</td>\n",
              "      <td>NaN</td>\n",
              "      <td>3.00</td>\n",
              "      <td>#ERROR!</td>\n",
              "      <td>#ERROR!</td>\n",
              "      <td>#ERROR!</td>\n",
              "      <td>#ERROR!</td>\n",
              "      <td>NaN</td>\n",
              "      <td>#ERROR!</td>\n",
              "      <td>...</td>\n",
              "      <td>120.0</td>\n",
              "      <td>30.0</td>\n",
              "      <td>NaN</td>\n",
              "      <td>2.0</td>\n",
              "      <td>110.0</td>\n",
              "      <td>NaN</td>\n",
              "      <td>1000.0</td>\n",
              "      <td>NaN</td>\n",
              "      <td>NaN</td>\n",
              "      <td>NaN</td>\n",
              "    </tr>\n",
              "    <tr>\n",
              "      <th>119</th>\n",
              "      <td>10.1021/jp104044j</td>\n",
              "      <td>NaN</td>\n",
              "      <td>NaN</td>\n",
              "      <td>0.25</td>\n",
              "      <td>#ERROR!</td>\n",
              "      <td>#ERROR!</td>\n",
              "      <td>#ERROR!</td>\n",
              "      <td>#ERROR!</td>\n",
              "      <td>NaN</td>\n",
              "      <td>#ERROR!</td>\n",
              "      <td>...</td>\n",
              "      <td>150.0</td>\n",
              "      <td>12.0</td>\n",
              "      <td>0.1 HCl</td>\n",
              "      <td>NaN</td>\n",
              "      <td>70.0</td>\n",
              "      <td>20.0</td>\n",
              "      <td>600.0</td>\n",
              "      <td>2.0</td>\n",
              "      <td>Tube</td>\n",
              "      <td>10-7</td>\n",
              "    </tr>\n",
              "    <tr>\n",
              "      <th>120</th>\n",
              "      <td>10.1021/am2008568</td>\n",
              "      <td>NaN</td>\n",
              "      <td>NaN</td>\n",
              "      <td>0.50</td>\n",
              "      <td>#ERROR!</td>\n",
              "      <td>#ERROR!</td>\n",
              "      <td>#ERROR!</td>\n",
              "      <td>#ERROR!</td>\n",
              "      <td>NaN</td>\n",
              "      <td>#ERROR!</td>\n",
              "      <td>...</td>\n",
              "      <td>200.0</td>\n",
              "      <td>24.0</td>\n",
              "      <td>0.1 HCl</td>\n",
              "      <td>NaN</td>\n",
              "      <td>-57.0</td>\n",
              "      <td>NaN</td>\n",
              "      <td>NaN</td>\n",
              "      <td>2.0</td>\n",
              "      <td>Belt</td>\n",
              "      <td>10-100</td>\n",
              "    </tr>\n",
              "    <tr>\n",
              "      <th>121</th>\n",
              "      <td>10.1088/0957-4484/19/27/275604</td>\n",
              "      <td>NaN</td>\n",
              "      <td>NaN</td>\n",
              "      <td>3.00</td>\n",
              "      <td>#ERROR!</td>\n",
              "      <td>#ERROR!</td>\n",
              "      <td>#ERROR!</td>\n",
              "      <td>#ERROR!</td>\n",
              "      <td>NaN</td>\n",
              "      <td>#ERROR!</td>\n",
              "      <td>...</td>\n",
              "      <td>100.0</td>\n",
              "      <td>48.0</td>\n",
              "      <td>0.1 HCl</td>\n",
              "      <td>0.5</td>\n",
              "      <td>12.0</td>\n",
              "      <td>NaN</td>\n",
              "      <td>NaN</td>\n",
              "      <td>NaN</td>\n",
              "      <td>Tube</td>\n",
              "      <td>10</td>\n",
              "    </tr>\n",
              "    <tr>\n",
              "      <th>122</th>\n",
              "      <td>10.1557/jmr.2004.19.2.417</td>\n",
              "      <td>NaN</td>\n",
              "      <td>NaN</td>\n",
              "      <td>2.00</td>\n",
              "      <td>#ERROR!</td>\n",
              "      <td>#ERROR!</td>\n",
              "      <td>#ERROR!</td>\n",
              "      <td>#ERROR!</td>\n",
              "      <td>NaN</td>\n",
              "      <td>#ERROR!</td>\n",
              "      <td>...</td>\n",
              "      <td>180.0</td>\n",
              "      <td>30.0</td>\n",
              "      <td>0.1 HCl</td>\n",
              "      <td>NaN</td>\n",
              "      <td>NaN</td>\n",
              "      <td>NaN</td>\n",
              "      <td>500.0</td>\n",
              "      <td>5.0</td>\n",
              "      <td>Tube</td>\n",
              "      <td>8-10</td>\n",
              "    </tr>\n",
              "    <tr>\n",
              "      <th>123</th>\n",
              "      <td>10.1016/j.cattod.2007.10.015</td>\n",
              "      <td>NaN</td>\n",
              "      <td>NaN</td>\n",
              "      <td>NaN</td>\n",
              "      <td>#ERROR!</td>\n",
              "      <td>#ERROR!</td>\n",
              "      <td>#ERROR!</td>\n",
              "      <td>#ERROR!</td>\n",
              "      <td>NaN</td>\n",
              "      <td>#ERROR!</td>\n",
              "      <td>...</td>\n",
              "      <td>150.0</td>\n",
              "      <td>48.0</td>\n",
              "      <td>0.1 HCl</td>\n",
              "      <td>NaN</td>\n",
              "      <td>NaN</td>\n",
              "      <td>NaN</td>\n",
              "      <td>NaN</td>\n",
              "      <td>2.0</td>\n",
              "      <td>Tube</td>\n",
              "      <td>6-10</td>\n",
              "    </tr>\n",
              "    <tr>\n",
              "      <th>124</th>\n",
              "      <td>10.1016/j.jallcom.2009.10.030</td>\n",
              "      <td>NaN</td>\n",
              "      <td>NaN</td>\n",
              "      <td>NaN</td>\n",
              "      <td>#ERROR!</td>\n",
              "      <td>#ERROR!</td>\n",
              "      <td>#ERROR!</td>\n",
              "      <td>#ERROR!</td>\n",
              "      <td>NaN</td>\n",
              "      <td>#ERROR!</td>\n",
              "      <td>...</td>\n",
              "      <td>110.0</td>\n",
              "      <td>24.0</td>\n",
              "      <td>0.1 HCl</td>\n",
              "      <td>1.0</td>\n",
              "      <td>100.0</td>\n",
              "      <td>NaN</td>\n",
              "      <td>25.0</td>\n",
              "      <td>2.0</td>\n",
              "      <td>Rod</td>\n",
              "      <td>50</td>\n",
              "    </tr>\n",
              "  </tbody>\n",
              "</table>\n",
              "<p>10 rows × 22 columns</p>\n",
              "</div>"
            ],
            "text/plain": [
              "                                DOI Volume (mL)  Total Volume (%)  \\\n",
              "115   10.1016/j.heliyon.2017.e00456         NaN               NaN   \n",
              "116   10.1016/j.molcata.2006.01.003       200.0               NaN   \n",
              "117               10.1021/jp047113f           x               NaN   \n",
              "118      10.1088/0957-4484/16/9/086       200.0               NaN   \n",
              "119               10.1021/jp104044j         NaN               NaN   \n",
              "120               10.1021/am2008568         NaN               NaN   \n",
              "121  10.1088/0957-4484/19/27/275604         NaN               NaN   \n",
              "122       10.1557/jmr.2004.19.2.417         NaN               NaN   \n",
              "123    10.1016/j.cattod.2007.10.015         NaN               NaN   \n",
              "124   10.1016/j.jallcom.2009.10.030         NaN               NaN   \n",
              "\n",
              "     Weight TiO2 (g)  mol TiO2    % TiO2 [TiO2] (g/mL) Proportion TiO2/NaOH  \\\n",
              "115             0.30   #ERROR!   #ERROR!       #ERROR!              #ERROR!   \n",
              "116             1.50   #ERROR!   #ERROR!       #ERROR!              #ERROR!   \n",
              "117             8.00  0.100168  0.043532      0.347826             0.000436   \n",
              "118             3.00   #ERROR!   #ERROR!       #ERROR!              #ERROR!   \n",
              "119             0.25   #ERROR!   #ERROR!       #ERROR!              #ERROR!   \n",
              "120             0.50   #ERROR!   #ERROR!       #ERROR!              #ERROR!   \n",
              "121             3.00   #ERROR!   #ERROR!       #ERROR!              #ERROR!   \n",
              "122             2.00   #ERROR!   #ERROR!       #ERROR!              #ERROR!   \n",
              "123              NaN   #ERROR!   #ERROR!       #ERROR!              #ERROR!   \n",
              "124              NaN   #ERROR!   #ERROR!       #ERROR!              #ERROR!   \n",
              "\n",
              "    Normalize Proportion TiO2/NaOH mol NaOH  ...  Temperature (C)  Time (h)  \\\n",
              "115                            NaN  #ERROR!  ...            110.0      72.0   \n",
              "116                            NaN  #ERROR!  ...            150.0      48.0   \n",
              "117                          #NUM!      230  ...            150.0      72.0   \n",
              "118                            NaN  #ERROR!  ...            120.0      30.0   \n",
              "119                            NaN  #ERROR!  ...            150.0      12.0   \n",
              "120                            NaN  #ERROR!  ...            200.0      24.0   \n",
              "121                            NaN  #ERROR!  ...            100.0      48.0   \n",
              "122                            NaN  #ERROR!  ...            180.0      30.0   \n",
              "123                            NaN  #ERROR!  ...            150.0      48.0   \n",
              "124                            NaN  #ERROR!  ...            110.0      24.0   \n",
              "\n",
              "      Washed  Washed Time Dried Temperature ©  Dried Time (h)  \\\n",
              "115  0.1 HCl          3.0                80.0            24.0   \n",
              "116  0.1 HCl          NaN                80.0             8.0   \n",
              "117  0.1 HCl          0.1                 NaN             NaN   \n",
              "118      NaN          2.0               110.0             NaN   \n",
              "119  0.1 HCl          NaN                70.0            20.0   \n",
              "120  0.1 HCl          NaN               -57.0             NaN   \n",
              "121  0.1 HCl          0.5                12.0             NaN   \n",
              "122  0.1 HCl          NaN                 NaN             NaN   \n",
              "123  0.1 HCl          NaN                 NaN             NaN   \n",
              "124  0.1 HCl          1.0               100.0             NaN   \n",
              "\n",
              "     Calcinate Temperature  Calcinate Time  Morphology  Size (nm)  \n",
              "115                    NaN             2.0        Tube        NaN  \n",
              "116                    NaN             2.0        Tube        NaN  \n",
              "117                   25.0             NaN        Tube       8-15  \n",
              "118                 1000.0             NaN         NaN        NaN  \n",
              "119                  600.0             2.0        Tube       10-7  \n",
              "120                    NaN             2.0        Belt     10-100  \n",
              "121                    NaN             NaN        Tube         10  \n",
              "122                  500.0             5.0        Tube       8-10  \n",
              "123                    NaN             2.0        Tube       6-10  \n",
              "124                   25.0             2.0         Rod         50  \n",
              "\n",
              "[10 rows x 22 columns]"
            ]
          },
          "execution_count": 128,
          "metadata": {},
          "output_type": "execute_result"
        }
      ],
      "source": [
        "df.tail(10)"
      ]
    },
    {
      "cell_type": "code",
      "execution_count": 129,
      "metadata": {
        "colab": {
          "base_uri": "https://localhost:8080/"
        },
        "id": "MTaEd9wjByhI",
        "outputId": "26e26e15-24da-4067-ab44-e17207ba2528"
      },
      "outputs": [
        {
          "name": "stdout",
          "output_type": "stream",
          "text": [
            "90      10.0\n",
            "91    50-120\n",
            "92    50-300\n",
            "93      20.0\n",
            "94     20-30\n",
            "95        10\n",
            "96      75.0\n",
            "97      30.0\n",
            "98     14-15\n",
            "99     10-30\n",
            "Name: Size (nm), dtype: object\n"
          ]
        }
      ],
      "source": [
        "print(df['Size (nm)'][90:100])"
      ]
    },
    {
      "cell_type": "code",
      "execution_count": 130,
      "metadata": {
        "id": "5Pqzyt4MBFXW"
      },
      "outputs": [],
      "source": [
        "df = df.drop(['Proportion TiO2/NaOH','Normalize Proportion TiO2/NaOH','DOI','Volume (mL)','Total Volume (%)','Weight TiO2 (g)','% TiO2','[TiO2] (g/mL)'],axis=1)#\t\t\t\t\t\t\n"
      ]
    },
    {
      "cell_type": "code",
      "execution_count": 131,
      "metadata": {},
      "outputs": [
        {
          "data": {
            "text/plain": [
              "Index(['mol TiO2', 'mol NaOH', 'Vol NaOH', '[NaOH]', 'Temperature (C)',\n",
              "       'Time (h)', 'Washed', 'Washed Time', 'Dried Temperature ©',\n",
              "       'Dried Time (h)', 'Calcinate Temperature', 'Calcinate Time',\n",
              "       'Morphology', 'Size (nm)'],\n",
              "      dtype='object')"
            ]
          },
          "execution_count": 131,
          "metadata": {},
          "output_type": "execute_result"
        }
      ],
      "source": [
        "df.columns"
      ]
    },
    {
      "cell_type": "code",
      "execution_count": 132,
      "metadata": {
        "id": "bsdH3035KUlR"
      },
      "outputs": [],
      "source": [
        "df.columns = ['n_TiO2','mol_NaOH','V_NaOH','[NaOH]','T','t','what_washed','washed_time','dried_T','dried_t','calcinate_T','calcinate_t','morpho','size(nm)']"
      ]
    },
    {
      "cell_type": "code",
      "execution_count": 133,
      "metadata": {
        "colab": {
          "base_uri": "https://localhost:8080/",
          "height": 270
        },
        "id": "eDjiaaaeKWHH",
        "outputId": "42e470f6-f3ea-4628-9185-52d09a734e76"
      },
      "outputs": [
        {
          "data": {
            "text/html": [
              "<div>\n",
              "<style scoped>\n",
              "    .dataframe tbody tr th:only-of-type {\n",
              "        vertical-align: middle;\n",
              "    }\n",
              "\n",
              "    .dataframe tbody tr th {\n",
              "        vertical-align: top;\n",
              "    }\n",
              "\n",
              "    .dataframe thead th {\n",
              "        text-align: right;\n",
              "    }\n",
              "</style>\n",
              "<table border=\"1\" class=\"dataframe\">\n",
              "  <thead>\n",
              "    <tr style=\"text-align: right;\">\n",
              "      <th></th>\n",
              "      <th>n_TiO2</th>\n",
              "      <th>mol_NaOH</th>\n",
              "      <th>V_NaOH</th>\n",
              "      <th>[NaOH]</th>\n",
              "      <th>T</th>\n",
              "      <th>t</th>\n",
              "      <th>what_washed</th>\n",
              "      <th>washed_time</th>\n",
              "      <th>dried_T</th>\n",
              "      <th>dried_t</th>\n",
              "      <th>calcinate_T</th>\n",
              "      <th>calcinate_t</th>\n",
              "      <th>morpho</th>\n",
              "      <th>size(nm)</th>\n",
              "    </tr>\n",
              "  </thead>\n",
              "  <tbody>\n",
              "    <tr>\n",
              "      <th>0</th>\n",
              "      <td>NaN</td>\n",
              "      <td>900</td>\n",
              "      <td>90.0</td>\n",
              "      <td>10.0</td>\n",
              "      <td>130.0</td>\n",
              "      <td>120.0</td>\n",
              "      <td>0.1 HCl</td>\n",
              "      <td>NaN</td>\n",
              "      <td>50.0</td>\n",
              "      <td>3.0</td>\n",
              "      <td>25.0</td>\n",
              "      <td>NaN</td>\n",
              "      <td>Tube</td>\n",
              "      <td>40-70</td>\n",
              "    </tr>\n",
              "    <tr>\n",
              "      <th>1</th>\n",
              "      <td>0.002504</td>\n",
              "      <td>NaN</td>\n",
              "      <td>NaN</td>\n",
              "      <td>8.0</td>\n",
              "      <td>240.0</td>\n",
              "      <td>2.0</td>\n",
              "      <td>Water</td>\n",
              "      <td>NaN</td>\n",
              "      <td>NaN</td>\n",
              "      <td>NaN</td>\n",
              "      <td>25.0</td>\n",
              "      <td>NaN</td>\n",
              "      <td>Tube</td>\n",
              "      <td>9</td>\n",
              "    </tr>\n",
              "    <tr>\n",
              "      <th>2</th>\n",
              "      <td>0.002504</td>\n",
              "      <td>NaN</td>\n",
              "      <td>NaN</td>\n",
              "      <td>8.0</td>\n",
              "      <td>240.0</td>\n",
              "      <td>3.0</td>\n",
              "      <td>Water</td>\n",
              "      <td>NaN</td>\n",
              "      <td>NaN</td>\n",
              "      <td>NaN</td>\n",
              "      <td>25.0</td>\n",
              "      <td>NaN</td>\n",
              "      <td>Wire</td>\n",
              "      <td>50-300</td>\n",
              "    </tr>\n",
              "    <tr>\n",
              "      <th>3</th>\n",
              "      <td>0.00626</td>\n",
              "      <td>NaN</td>\n",
              "      <td>NaN</td>\n",
              "      <td>10.0</td>\n",
              "      <td>220.0</td>\n",
              "      <td>20.0</td>\n",
              "      <td>0.1 HCl</td>\n",
              "      <td>NaN</td>\n",
              "      <td>NaN</td>\n",
              "      <td>NaN</td>\n",
              "      <td>25.0</td>\n",
              "      <td>NaN</td>\n",
              "      <td>Belt</td>\n",
              "      <td>60.0</td>\n",
              "    </tr>\n",
              "    <tr>\n",
              "      <th>4</th>\n",
              "      <td>0.00626</td>\n",
              "      <td>NaN</td>\n",
              "      <td>NaN</td>\n",
              "      <td>7.5</td>\n",
              "      <td>160.0</td>\n",
              "      <td>20.0</td>\n",
              "      <td>0.1 HCl</td>\n",
              "      <td>NaN</td>\n",
              "      <td>NaN</td>\n",
              "      <td>NaN</td>\n",
              "      <td>25.0</td>\n",
              "      <td>NaN</td>\n",
              "      <td>Tube</td>\n",
              "      <td>10.0</td>\n",
              "    </tr>\n",
              "  </tbody>\n",
              "</table>\n",
              "</div>"
            ],
            "text/plain": [
              "     n_TiO2 mol_NaOH  V_NaOH  [NaOH]      T      t what_washed  washed_time  \\\n",
              "0       NaN      900    90.0    10.0  130.0  120.0     0.1 HCl          NaN   \n",
              "1  0.002504      NaN     NaN     8.0  240.0    2.0       Water          NaN   \n",
              "2  0.002504      NaN     NaN     8.0  240.0    3.0       Water          NaN   \n",
              "3   0.00626      NaN     NaN    10.0  220.0   20.0     0.1 HCl          NaN   \n",
              "4   0.00626      NaN     NaN     7.5  160.0   20.0     0.1 HCl          NaN   \n",
              "\n",
              "   dried_T  dried_t  calcinate_T  calcinate_t morpho size(nm)  \n",
              "0     50.0      3.0         25.0          NaN   Tube    40-70  \n",
              "1      NaN      NaN         25.0          NaN   Tube        9  \n",
              "2      NaN      NaN         25.0          NaN   Wire   50-300  \n",
              "3      NaN      NaN         25.0          NaN   Belt     60.0  \n",
              "4      NaN      NaN         25.0          NaN   Tube     10.0  "
            ]
          },
          "execution_count": 133,
          "metadata": {},
          "output_type": "execute_result"
        }
      ],
      "source": [
        "df.head()"
      ]
    },
    {
      "cell_type": "markdown",
      "metadata": {
        "id": "HldsbXKILe-J"
      },
      "source": [
        "Ideias : Desmembrar 'size(nm)' em colunas representando componentes de interesse, como média , desvio padrão, variância, etc. Assim podemos quantificar os dads da coluna."
      ]
    },
    {
      "cell_type": "markdown",
      "metadata": {
        "id": "W2hGtLQ2GCli"
      },
      "source": [
        "## Exploração"
      ]
    },
    {
      "cell_type": "code",
      "execution_count": 134,
      "metadata": {
        "colab": {
          "base_uri": "https://localhost:8080/"
        },
        "id": "S5QmUwQSE90R",
        "outputId": "c958d62a-d59d-452b-a323-8acf379a000d"
      },
      "outputs": [
        {
          "data": {
            "text/plain": [
              "n_TiO2         0.168\n",
              "mol_NaOH       0.280\n",
              "V_NaOH         0.296\n",
              "[NaOH]         0.008\n",
              "T              0.000\n",
              "t              0.008\n",
              "what_washed    0.016\n",
              "washed_time    0.760\n",
              "dried_T        0.408\n",
              "dried_t        0.592\n",
              "calcinate_T    0.064\n",
              "calcinate_t    0.544\n",
              "morpho         0.008\n",
              "size(nm)       0.024\n",
              "dtype: float64"
            ]
          },
          "execution_count": 134,
          "metadata": {},
          "output_type": "execute_result"
        }
      ],
      "source": [
        "\n",
        "df.apply(pd.isnull).sum()/df.shape[0]"
      ]
    },
    {
      "cell_type": "code",
      "execution_count": 135,
      "metadata": {
        "colab": {
          "base_uri": "https://localhost:8080/"
        },
        "id": "GnJ_B9gXHgRa",
        "outputId": "1fcac19e-b633-41f3-eca6-c9712e314263"
      },
      "outputs": [
        {
          "data": {
            "text/plain": [
              "n_TiO2          object\n",
              "mol_NaOH        object\n",
              "V_NaOH         float64\n",
              "[NaOH]         float64\n",
              "T              float64\n",
              "t              float64\n",
              "what_washed     object\n",
              "washed_time    float64\n",
              "dried_T        float64\n",
              "dried_t        float64\n",
              "calcinate_T    float64\n",
              "calcinate_t    float64\n",
              "morpho          object\n",
              "size(nm)        object\n",
              "dtype: object"
            ]
          },
          "execution_count": 135,
          "metadata": {},
          "output_type": "execute_result"
        }
      ],
      "source": [
        "df.dtypes"
      ]
    },
    {
      "cell_type": "markdown",
      "metadata": {
        "id": "CiTtv1NUPW2c"
      },
      "source": [
        "### Adequando prop_TiO2/NaOH: ??"
      ]
    },
    {
      "cell_type": "code",
      "execution_count": 136,
      "metadata": {},
      "outputs": [],
      "source": [
        "for i in ['n_TiO2','mol_NaOH']:\n",
        "    df[i] = df[i].map(lambda x: str(x).replace(\",\",\".\"))\n",
        "    df[i] = df[i].map(lambda x: None if x == '#ERROR!' or x == 'nan' else x)\n",
        "    df[i] = pd.to_numeric(df[i])\n",
        "    mean = np.mean(df[i].dropna())\n",
        "    df[i] = df[i].fillna(mean)\n",
        "\n",
        "df['prop_TiO2/NaOH'] = df['n_TiO2']/df['mol_NaOH']\n"
      ]
    },
    {
      "cell_type": "code",
      "execution_count": 137,
      "metadata": {},
      "outputs": [
        {
          "data": {
            "text/plain": [
              "0      0.000038\n",
              "1      0.000003\n",
              "2      0.000003\n",
              "3      0.000007\n",
              "4      0.000007\n",
              "         ...   \n",
              "120    0.000038\n",
              "121    0.000038\n",
              "122    0.000038\n",
              "123    0.000038\n",
              "124    0.000038\n",
              "Name: prop_TiO2/NaOH, Length: 125, dtype: float64"
            ]
          },
          "execution_count": 137,
          "metadata": {},
          "output_type": "execute_result"
        }
      ],
      "source": [
        "\n",
        "df['prop_TiO2/NaOH']"
      ]
    },
    {
      "cell_type": "markdown",
      "metadata": {
        "id": "8_XLYrMkQ_DH"
      },
      "source": [
        "### Adequando size(nm):"
      ]
    },
    {
      "cell_type": "code",
      "execution_count": 138,
      "metadata": {
        "id": "8SnfEgxgiCeW"
      },
      "outputs": [],
      "source": [
        "df = df.dropna(subset=['size(nm)'])\n"
      ]
    },
    {
      "cell_type": "code",
      "execution_count": 140,
      "metadata": {
        "id": "VPCz48Sag62d"
      },
      "outputs": [],
      "source": [
        "df = df.reindex(columns = df.columns.tolist() + [\"size_mean\",\"size_std\"])\n",
        "df = df.reindex([i for i in range(df.index.shape[0])])"
      ]
    },
    {
      "cell_type": "code",
      "execution_count": 142,
      "metadata": {},
      "outputs": [
        {
          "data": {
            "text/html": [
              "<div>\n",
              "<style scoped>\n",
              "    .dataframe tbody tr th:only-of-type {\n",
              "        vertical-align: middle;\n",
              "    }\n",
              "\n",
              "    .dataframe tbody tr th {\n",
              "        vertical-align: top;\n",
              "    }\n",
              "\n",
              "    .dataframe thead th {\n",
              "        text-align: right;\n",
              "    }\n",
              "</style>\n",
              "<table border=\"1\" class=\"dataframe\">\n",
              "  <thead>\n",
              "    <tr style=\"text-align: right;\">\n",
              "      <th></th>\n",
              "      <th>n_TiO2</th>\n",
              "      <th>mol_NaOH</th>\n",
              "      <th>V_NaOH</th>\n",
              "      <th>[NaOH]</th>\n",
              "      <th>T</th>\n",
              "      <th>t</th>\n",
              "      <th>what_washed</th>\n",
              "      <th>washed_time</th>\n",
              "      <th>dried_T</th>\n",
              "      <th>dried_t</th>\n",
              "      <th>calcinate_T</th>\n",
              "      <th>calcinate_t</th>\n",
              "      <th>morpho</th>\n",
              "      <th>size(nm)</th>\n",
              "      <th>prop_TiO2/NaOH</th>\n",
              "      <th>size_mean</th>\n",
              "      <th>size_std</th>\n",
              "    </tr>\n",
              "  </thead>\n",
              "  <tbody>\n",
              "    <tr>\n",
              "      <th>112</th>\n",
              "      <td>0.034201</td>\n",
              "      <td>891.25</td>\n",
              "      <td>50.0</td>\n",
              "      <td>10.0</td>\n",
              "      <td>150.0</td>\n",
              "      <td>72.0</td>\n",
              "      <td>HCl</td>\n",
              "      <td>24.0</td>\n",
              "      <td>NaN</td>\n",
              "      <td>NaN</td>\n",
              "      <td>NaN</td>\n",
              "      <td>2.0</td>\n",
              "      <td>Wire</td>\n",
              "      <td>25-30</td>\n",
              "      <td>0.000038</td>\n",
              "      <td>NaN</td>\n",
              "      <td>NaN</td>\n",
              "    </tr>\n",
              "    <tr>\n",
              "      <th>113</th>\n",
              "      <td>0.075126</td>\n",
              "      <td>420.00</td>\n",
              "      <td>28.0</td>\n",
              "      <td>15.0</td>\n",
              "      <td>150.0</td>\n",
              "      <td>72.0</td>\n",
              "      <td>0.05 HCl</td>\n",
              "      <td>NaN</td>\n",
              "      <td>NaN</td>\n",
              "      <td>NaN</td>\n",
              "      <td>400.0</td>\n",
              "      <td>5.0</td>\n",
              "      <td>Tube</td>\n",
              "      <td>10-20</td>\n",
              "      <td>0.000179</td>\n",
              "      <td>NaN</td>\n",
              "      <td>NaN</td>\n",
              "    </tr>\n",
              "    <tr>\n",
              "      <th>114</th>\n",
              "      <td>0.075126</td>\n",
              "      <td>420.00</td>\n",
              "      <td>28.0</td>\n",
              "      <td>15.0</td>\n",
              "      <td>150.0</td>\n",
              "      <td>72.0</td>\n",
              "      <td>0.05 HCl</td>\n",
              "      <td>NaN</td>\n",
              "      <td>NaN</td>\n",
              "      <td>NaN</td>\n",
              "      <td>400.0</td>\n",
              "      <td>5.0</td>\n",
              "      <td>Tube</td>\n",
              "      <td>10.0</td>\n",
              "      <td>0.000179</td>\n",
              "      <td>NaN</td>\n",
              "      <td>NaN</td>\n",
              "    </tr>\n",
              "    <tr>\n",
              "      <th>115</th>\n",
              "      <td>NaN</td>\n",
              "      <td>NaN</td>\n",
              "      <td>NaN</td>\n",
              "      <td>NaN</td>\n",
              "      <td>NaN</td>\n",
              "      <td>NaN</td>\n",
              "      <td>NaN</td>\n",
              "      <td>NaN</td>\n",
              "      <td>NaN</td>\n",
              "      <td>NaN</td>\n",
              "      <td>NaN</td>\n",
              "      <td>NaN</td>\n",
              "      <td>NaN</td>\n",
              "      <td>NaN</td>\n",
              "      <td>NaN</td>\n",
              "      <td>NaN</td>\n",
              "      <td>NaN</td>\n",
              "    </tr>\n",
              "    <tr>\n",
              "      <th>116</th>\n",
              "      <td>NaN</td>\n",
              "      <td>NaN</td>\n",
              "      <td>NaN</td>\n",
              "      <td>NaN</td>\n",
              "      <td>NaN</td>\n",
              "      <td>NaN</td>\n",
              "      <td>NaN</td>\n",
              "      <td>NaN</td>\n",
              "      <td>NaN</td>\n",
              "      <td>NaN</td>\n",
              "      <td>NaN</td>\n",
              "      <td>NaN</td>\n",
              "      <td>NaN</td>\n",
              "      <td>NaN</td>\n",
              "      <td>NaN</td>\n",
              "      <td>NaN</td>\n",
              "      <td>NaN</td>\n",
              "    </tr>\n",
              "    <tr>\n",
              "      <th>117</th>\n",
              "      <td>0.100168</td>\n",
              "      <td>230.00</td>\n",
              "      <td>23.0</td>\n",
              "      <td>10.0</td>\n",
              "      <td>150.0</td>\n",
              "      <td>72.0</td>\n",
              "      <td>0.1 HCl</td>\n",
              "      <td>0.1</td>\n",
              "      <td>NaN</td>\n",
              "      <td>NaN</td>\n",
              "      <td>25.0</td>\n",
              "      <td>NaN</td>\n",
              "      <td>Tube</td>\n",
              "      <td>8-15</td>\n",
              "      <td>0.000436</td>\n",
              "      <td>NaN</td>\n",
              "      <td>NaN</td>\n",
              "    </tr>\n",
              "    <tr>\n",
              "      <th>118</th>\n",
              "      <td>NaN</td>\n",
              "      <td>NaN</td>\n",
              "      <td>NaN</td>\n",
              "      <td>NaN</td>\n",
              "      <td>NaN</td>\n",
              "      <td>NaN</td>\n",
              "      <td>NaN</td>\n",
              "      <td>NaN</td>\n",
              "      <td>NaN</td>\n",
              "      <td>NaN</td>\n",
              "      <td>NaN</td>\n",
              "      <td>NaN</td>\n",
              "      <td>NaN</td>\n",
              "      <td>NaN</td>\n",
              "      <td>NaN</td>\n",
              "      <td>NaN</td>\n",
              "      <td>NaN</td>\n",
              "    </tr>\n",
              "    <tr>\n",
              "      <th>119</th>\n",
              "      <td>0.034201</td>\n",
              "      <td>891.25</td>\n",
              "      <td>20.0</td>\n",
              "      <td>10.0</td>\n",
              "      <td>150.0</td>\n",
              "      <td>12.0</td>\n",
              "      <td>0.1 HCl</td>\n",
              "      <td>NaN</td>\n",
              "      <td>70.0</td>\n",
              "      <td>20.0</td>\n",
              "      <td>600.0</td>\n",
              "      <td>2.0</td>\n",
              "      <td>Tube</td>\n",
              "      <td>10-7</td>\n",
              "      <td>0.000038</td>\n",
              "      <td>NaN</td>\n",
              "      <td>NaN</td>\n",
              "    </tr>\n",
              "    <tr>\n",
              "      <th>120</th>\n",
              "      <td>0.034201</td>\n",
              "      <td>891.25</td>\n",
              "      <td>20.0</td>\n",
              "      <td>10.0</td>\n",
              "      <td>200.0</td>\n",
              "      <td>24.0</td>\n",
              "      <td>0.1 HCl</td>\n",
              "      <td>NaN</td>\n",
              "      <td>-57.0</td>\n",
              "      <td>NaN</td>\n",
              "      <td>NaN</td>\n",
              "      <td>2.0</td>\n",
              "      <td>Belt</td>\n",
              "      <td>10-100</td>\n",
              "      <td>0.000038</td>\n",
              "      <td>NaN</td>\n",
              "      <td>NaN</td>\n",
              "    </tr>\n",
              "    <tr>\n",
              "      <th>121</th>\n",
              "      <td>0.034201</td>\n",
              "      <td>891.25</td>\n",
              "      <td>49.0</td>\n",
              "      <td>10.0</td>\n",
              "      <td>100.0</td>\n",
              "      <td>48.0</td>\n",
              "      <td>0.1 HCl</td>\n",
              "      <td>0.5</td>\n",
              "      <td>12.0</td>\n",
              "      <td>NaN</td>\n",
              "      <td>NaN</td>\n",
              "      <td>NaN</td>\n",
              "      <td>Tube</td>\n",
              "      <td>10</td>\n",
              "      <td>0.000038</td>\n",
              "      <td>NaN</td>\n",
              "      <td>NaN</td>\n",
              "    </tr>\n",
              "  </tbody>\n",
              "</table>\n",
              "</div>"
            ],
            "text/plain": [
              "       n_TiO2  mol_NaOH  V_NaOH  [NaOH]      T     t what_washed  washed_time  \\\n",
              "112  0.034201    891.25    50.0    10.0  150.0  72.0         HCl         24.0   \n",
              "113  0.075126    420.00    28.0    15.0  150.0  72.0    0.05 HCl          NaN   \n",
              "114  0.075126    420.00    28.0    15.0  150.0  72.0    0.05 HCl          NaN   \n",
              "115       NaN       NaN     NaN     NaN    NaN   NaN         NaN          NaN   \n",
              "116       NaN       NaN     NaN     NaN    NaN   NaN         NaN          NaN   \n",
              "117  0.100168    230.00    23.0    10.0  150.0  72.0     0.1 HCl          0.1   \n",
              "118       NaN       NaN     NaN     NaN    NaN   NaN         NaN          NaN   \n",
              "119  0.034201    891.25    20.0    10.0  150.0  12.0     0.1 HCl          NaN   \n",
              "120  0.034201    891.25    20.0    10.0  200.0  24.0     0.1 HCl          NaN   \n",
              "121  0.034201    891.25    49.0    10.0  100.0  48.0     0.1 HCl          0.5   \n",
              "\n",
              "     dried_T  dried_t  calcinate_T  calcinate_t morpho size(nm)  \\\n",
              "112      NaN      NaN          NaN          2.0   Wire    25-30   \n",
              "113      NaN      NaN        400.0          5.0   Tube    10-20   \n",
              "114      NaN      NaN        400.0          5.0   Tube     10.0   \n",
              "115      NaN      NaN          NaN          NaN    NaN      NaN   \n",
              "116      NaN      NaN          NaN          NaN    NaN      NaN   \n",
              "117      NaN      NaN         25.0          NaN   Tube     8-15   \n",
              "118      NaN      NaN          NaN          NaN    NaN      NaN   \n",
              "119     70.0     20.0        600.0          2.0   Tube     10-7   \n",
              "120    -57.0      NaN          NaN          2.0   Belt   10-100   \n",
              "121     12.0      NaN          NaN          NaN   Tube       10   \n",
              "\n",
              "     prop_TiO2/NaOH  size_mean  size_std  \n",
              "112        0.000038        NaN       NaN  \n",
              "113        0.000179        NaN       NaN  \n",
              "114        0.000179        NaN       NaN  \n",
              "115             NaN        NaN       NaN  \n",
              "116             NaN        NaN       NaN  \n",
              "117        0.000436        NaN       NaN  \n",
              "118             NaN        NaN       NaN  \n",
              "119        0.000038        NaN       NaN  \n",
              "120        0.000038        NaN       NaN  \n",
              "121        0.000038        NaN       NaN  "
            ]
          },
          "execution_count": 142,
          "metadata": {},
          "output_type": "execute_result"
        }
      ],
      "source": [
        "df.tail(10)"
      ]
    },
    {
      "cell_type": "code",
      "execution_count": 143,
      "metadata": {
        "colab": {
          "base_uri": "https://localhost:8080/"
        },
        "id": "FSzaGmWaH-6N",
        "outputId": "a8dd212a-430c-4414-fd76-b4729245c4e7"
      },
      "outputs": [
        {
          "name": "stdout",
          "output_type": "stream",
          "text": [
            "40-70\n"
          ]
        },
        {
          "name": "stderr",
          "output_type": "stream",
          "text": [
            "C:\\Users\\015025631\\AppData\\Local\\Temp\\ipykernel_49048\\3442646530.py:14: SettingWithCopyWarning: \n",
            "A value is trying to be set on a copy of a slice from a DataFrame\n",
            "\n",
            "See the caveats in the documentation: https://pandas.pydata.org/pandas-docs/stable/user_guide/indexing.html#returning-a-view-versus-a-copy\n",
            "  df['size_mean'][i] = np.mean([float(df['size(nm)'][i].split('-')[0]),float(df['size(nm)'][i].split('-')[1])])\n",
            "C:\\Users\\015025631\\AppData\\Local\\Temp\\ipykernel_49048\\3442646530.py:15: SettingWithCopyWarning: \n",
            "A value is trying to be set on a copy of a slice from a DataFrame\n",
            "\n",
            "See the caveats in the documentation: https://pandas.pydata.org/pandas-docs/stable/user_guide/indexing.html#returning-a-view-versus-a-copy\n",
            "  df['size_std'][i] = np.std([float(df['size(nm)'][i].split('-')[0]),float(df['size(nm)'][i].split('-')[1])])\n",
            "C:\\Users\\015025631\\AppData\\Local\\Temp\\ipykernel_49048\\3442646530.py:22: SettingWithCopyWarning: \n",
            "A value is trying to be set on a copy of a slice from a DataFrame\n",
            "\n",
            "See the caveats in the documentation: https://pandas.pydata.org/pandas-docs/stable/user_guide/indexing.html#returning-a-view-versus-a-copy\n",
            "  df['size_mean'][i] = float(df['size(nm)'][i])\n"
          ]
        },
        {
          "name": "stdout",
          "output_type": "stream",
          "text": [
            "9\n"
          ]
        },
        {
          "name": "stderr",
          "output_type": "stream",
          "text": [
            "C:\\Users\\015025631\\AppData\\Local\\Temp\\ipykernel_49048\\3442646530.py:23: SettingWithCopyWarning: \n",
            "A value is trying to be set on a copy of a slice from a DataFrame\n",
            "\n",
            "See the caveats in the documentation: https://pandas.pydata.org/pandas-docs/stable/user_guide/indexing.html#returning-a-view-versus-a-copy\n",
            "  df['size_std'][i] = 0\n"
          ]
        },
        {
          "name": "stdout",
          "output_type": "stream",
          "text": [
            "50-300\n",
            "60.0\n"
          ]
        },
        {
          "name": "stderr",
          "output_type": "stream",
          "text": [
            "C:\\Users\\015025631\\AppData\\Local\\Temp\\ipykernel_49048\\3442646530.py:18: SettingWithCopyWarning: \n",
            "A value is trying to be set on a copy of a slice from a DataFrame\n",
            "\n",
            "See the caveats in the documentation: https://pandas.pydata.org/pandas-docs/stable/user_guide/indexing.html#returning-a-view-versus-a-copy\n",
            "  df['size_mean'][i] = df['size(nm)'][i]\n",
            "C:\\Users\\015025631\\AppData\\Local\\Temp\\ipykernel_49048\\3442646530.py:19: SettingWithCopyWarning: \n",
            "A value is trying to be set on a copy of a slice from a DataFrame\n",
            "\n",
            "See the caveats in the documentation: https://pandas.pydata.org/pandas-docs/stable/user_guide/indexing.html#returning-a-view-versus-a-copy\n",
            "  df['size_std'][i] = 0\n"
          ]
        },
        {
          "name": "stdout",
          "output_type": "stream",
          "text": [
            "10.0\n",
            "40-300\n",
            "80.0\n",
            "9.0\n",
            "25.0\n",
            "100-300\n",
            "8-12\n",
            "8-10\n",
            "35-165\n",
            "300-500\n",
            "20-40\n",
            "20-320\n",
            "8-22\n",
            "90.0\n",
            "40-120\n",
            "7-11\n",
            "10.0\n",
            "8-12\n",
            "5-8\n",
            "7.0\n",
            "20.0\n",
            "10.0\n",
            "10.0\n",
            "8-15\n",
            "8-11\n",
            "10.0\n",
            "20-40\n",
            "20-40\n",
            "20-40\n",
            "50-100\n",
            "20-100\n",
            "10.0\n",
            "20.0\n",
            "10\n",
            "10.0\n",
            "65-400\n",
            "20-50\n",
            "200-400\n",
            "20-50\n",
            "20-50\n",
            "50-200\n",
            "10-15\n",
            "8-14\n",
            "7-12\n",
            "9\n",
            "8-20\n",
            "20-100\n",
            "10.0\n",
            "10-20\n",
            "50-70\n",
            "50-100\n",
            "10-15\n",
            "9.0\n",
            "10.0\n",
            "50.0\n",
            "30-50\n",
            "10.0\n",
            "8-10\n",
            "10.0\n",
            "5-30\n",
            "5-10\n",
            "50-400\n",
            "60-300\n",
            "100.0\n",
            "15.0\n",
            "100.0\n",
            "50.0\n",
            "15.0\n",
            "10-70\n",
            "10.0\n",
            "60.0\n",
            "7-11\n",
            "20-90\n",
            "10\n",
            "50.0\n",
            "120\n",
            "10.0\n",
            "10.0\n",
            "10\n",
            "7-10\n",
            "50.0\n",
            "7-10\n",
            "20.0\n",
            "9.0\n",
            "20-50\n",
            "50-300\n",
            "10.0\n",
            "50-120\n",
            "50-300\n",
            "20.0\n",
            "20-30\n",
            "10\n",
            "75.0\n",
            "30.0\n",
            "14-15\n",
            "10-30\n",
            "4-10\n",
            "8-20\n",
            "120.0\n",
            "20.0\n",
            "10-50\n",
            "8\n",
            "10.0\n",
            "11.0\n",
            "5-8\n",
            "20.0\n",
            "10-12\n",
            "20-40\n",
            "25-30\n",
            "10-20\n",
            "10.0\n",
            "nan\n",
            "nan\n",
            "8-15\n",
            "nan\n",
            "10-7\n",
            "10-100\n",
            "10\n"
          ]
        }
      ],
      "source": [
        "#TENTATIVA IDEAL. FALHA...\n",
        "#df['size_mean']= np.where('-' in df['size(nm)'],np.mean(float(df['size(nm)'].str.split('-')[0]+df['size(nm)'].str.split('-')[1])),float(df['size(nm)']))\n",
        "#df['size_std']= np.where('-' in df['size(nm)'],np.std(float(df['size(nm)'].str.split('-')[0]+df['size(nm)'].str.split('-')[1])),float(0))\n",
        "\n",
        "# Limpe tudo com .select_dtypes(include='object') depois...\n",
        "\n",
        "for i in range(df['size(nm)'].shape[0]):\n",
        " \n",
        "  print(df['size(nm)'][i])\n",
        "  \n",
        "  try:\n",
        "\n",
        "    if type(df['size(nm)'][i]) == str:\n",
        "      df['size_mean'][i] = np.mean([float(df['size(nm)'][i].split('-')[0]),float(df['size(nm)'][i].split('-')[1])])\n",
        "      df['size_std'][i] = np.std([float(df['size(nm)'][i].split('-')[0]),float(df['size(nm)'][i].split('-')[1])])\n",
        "\n",
        "    else:\n",
        "      df['size_mean'][i] = df['size(nm)'][i]\n",
        "      df['size_std'][i] = 0\n",
        "\n",
        "  except:\n",
        "    df['size_mean'][i] = float(df['size(nm)'][i])\n",
        "    df['size_std'][i] = 0\n",
        "\n"
      ]
    },
    {
      "cell_type": "code",
      "execution_count": null,
      "metadata": {
        "id": "IizMgMdSWXGM"
      },
      "outputs": [],
      "source": [
        "#df['size(nm)'].str.split('-').apply(lambda x: x[0]+x[1])\n",
        "#ideia"
      ]
    },
    {
      "cell_type": "markdown",
      "metadata": {
        "id": "-3pulsLCG9QE"
      },
      "source": [
        "## Análise"
      ]
    },
    {
      "cell_type": "code",
      "execution_count": 144,
      "metadata": {
        "id": "TuYCacGOwslB"
      },
      "outputs": [],
      "source": [
        "#Normalizando:\n",
        "def Normalizar(df):\n",
        "  print('Normalizando ...')\n",
        "  for i in df.columns:\n",
        "    try:\n",
        "      df[i] = df[i] / df[i].max(axis=0)\n",
        "    except:\n",
        "      print('Falha:',i,type(i))\n",
        "  return df"
      ]
    },
    {
      "cell_type": "code",
      "execution_count": 145,
      "metadata": {
        "colab": {
          "base_uri": "https://localhost:8080/"
        },
        "id": "3HopWW3cEcmS",
        "outputId": "d0b99e95-3b03-436f-8473-7d73cad3e370"
      },
      "outputs": [
        {
          "name": "stdout",
          "output_type": "stream",
          "text": [
            "Normalizando ...\n",
            "Falha: what_washed <class 'str'>\n",
            "Falha: morpho <class 'str'>\n",
            "Falha: size(nm) <class 'str'>\n"
          ]
        }
      ],
      "source": [
        "df = Normalizar(df)"
      ]
    },
    {
      "cell_type": "code",
      "execution_count": 146,
      "metadata": {
        "colab": {
          "base_uri": "https://localhost:8080/",
          "height": 543
        },
        "id": "R_zY4BDm8tTt",
        "outputId": "0324802b-d478-4f5f-e4d0-268d7396828b"
      },
      "outputs": [
        {
          "data": {
            "image/png": "[encoded data removed]",
            "text/plain": [
              "<Figure size 576x576 with 2 Axes>"
            ]
          },
          "metadata": {
            "needs_background": "light"
          },
          "output_type": "display_data"
        }
      ],
      "source": [
        "correlation = df.corr()\n",
        "plt.figure(figsize=(8, 8))\n",
        "heatmap = sns.heatmap(correlation, annot=True, linewidths=0, vmin=-1, cmap=\"RdBu_r\")"
      ]
    },
    {
      "cell_type": "markdown",
      "metadata": {
        "id": "z0JWTKLWfqiB"
      },
      "source": [
        "Usar n_Naoh e n_TiO2 (Fração molar), [NaOH], V_NaOH se torna inutil porque a informação depende da pressão usada"
      ]
    },
    {
      "cell_type": "code",
      "execution_count": 147,
      "metadata": {
        "colab": {
          "base_uri": "https://localhost:8080/",
          "height": 1000
        },
        "id": "MAT16VebNKF-",
        "outputId": "e2945ff8-2a0f-423d-884d-ffa81d8c219b"
      },
      "outputs": [
        {
          "data": {
            "text/plain": [
              "morpho\n",
              "Belt      AxesSubplot(0.125,0.125;0.775x0.755)\n",
              "Rod       AxesSubplot(0.125,0.125;0.775x0.755)\n",
              "Sphere    AxesSubplot(0.125,0.125;0.775x0.755)\n",
              "Tube      AxesSubplot(0.125,0.125;0.775x0.755)\n",
              "Wire      AxesSubplot(0.125,0.125;0.775x0.755)\n",
              "dtype: object"
            ]
          },
          "execution_count": 147,
          "metadata": {},
          "output_type": "execute_result"
        },
        {
          "data": {
            "image/png": "[encoded data removed]",
            "text/plain": [
              "<Figure size 432x288 with 1 Axes>"
            ]
          },
          "metadata": {
            "needs_background": "light"
          },
          "output_type": "display_data"
        },
        {
          "data": {
            "image/png": "[encoded data removed]",
            "text/plain": [
              "<Figure size 432x288 with 1 Axes>"
            ]
          },
          "metadata": {
            "needs_background": "light"
          },
          "output_type": "display_data"
        },
        {
          "data": {
            "image/png": "[encoded data removed]",
            "text/plain": [
              "<Figure size 432x288 with 1 Axes>"
            ]
          },
          "metadata": {
            "needs_background": "light"
          },
          "output_type": "display_data"
        },
        {
          "data": {
            "image/png": "[encoded data removed]",
            "text/plain": [
              "<Figure size 432x288 with 1 Axes>"
            ]
          },
          "metadata": {
            "needs_background": "light"
          },
          "output_type": "display_data"
        },
        {
          "data": {
            "image/png": "[encoded data removed]",
            "text/plain": [
              "<Figure size 432x288 with 1 Axes>"
            ]
          },
          "metadata": {
            "needs_background": "light"
          },
          "output_type": "display_data"
        }
      ],
      "source": [
        "df.groupby(df['morpho']).plot()"
      ]
    },
    {
      "cell_type": "code",
      "execution_count": 148,
      "metadata": {
        "colab": {
          "base_uri": "https://localhost:8080/",
          "height": 647
        },
        "id": "yliqLNxdyVcm",
        "outputId": "d3702322-1bcd-4e5f-d95d-eb5bc277aa2c"
      },
      "outputs": [
        {
          "data": {
            "application/vnd.plotly.v1+json": {
              "config": {
                "plotlyServerURL": "https://plot.ly"
              },
              "data": [
                {
                  "hovertemplate": "variable=prop_TiO2/NaOH<br>index=%{x}<br>value=%{y}<extra></extra>",
                  "legendgroup": "prop_TiO2/NaOH",
                  "line": {
                    "color": "#636efa",
                    "dash": "solid"
                  },
                  "marker": {
                    "symbol": "circle"
                  },
                  "mode": "lines",
                  "name": "prop_TiO2/NaOH",
                  "orientation": "v",
                  "showlegend": true,
                  "type": "scatter",
                  "x": [
                    0,
                    1,
                    2,
                    3,
                    4,
                    5,
                    6,
                    7,
                    8,
                    9,
                    10,
                    11,
                    12,
                    13,
                    14,
                    15,
                    16,
                    17,
                    18,
                    19,
                    20,
                    21,
                    22,
                    23,
                    24,
                    25,
                    26,
                    27,
                    28,
                    29,
                    30,
                    31,
                    32,
                    33,
                    34,
                    35,
                    36,
                    37,
                    38,
                    39,
                    40,
                    41,
                    42,
                    43,
                    44,
                    45,
                    46,
                    47,
                    48,
                    49,
                    50,
                    51,
                    52,
                    53,
                    54,
                    55,
                    56,
                    57,
                    58,
                    59,
                    60,
                    61,
                    62,
                    63,
                    64,
                    65,
                    66,
                    67,
                    68,
                    69,
                    70,
                    71,
                    72,
                    73,
                    74,
                    75,
                    76,
                    77,
                    78,
                    79,
                    80,
                    81,
                    82,
                    83,
                    84,
                    85,
                    86,
                    87,
                    88,
                    89,
                    90,
                    91,
                    92,
                    93,
                    94,
                    95,
                    96,
                    97,
                    98,
                    99,
                    100,
                    101,
                    102,
                    103,
                    104,
                    105,
                    106,
                    107,
                    108,
                    109,
                    110,
                    111,
                    112,
                    113,
                    114,
                    115,
                    116,
                    117,
                    118,
                    119,
                    120,
                    121
                  ],
                  "xaxis": "x",
                  "y": [
                    0.08725499378934971,
                    0.006451612905802129,
                    0.006451612905802129,
                    0.016129032264505322,
                    0.016129032264505322,
                    0.032258064529010644,
                    0.032258064529010644,
                    0.032258064529010644,
                    0.032258064529010644,
                    0.06451612905802129,
                    0.06451612905802129,
                    0.080645161309645,
                    0.09677419358703193,
                    0.09677419358703193,
                    0.19354838714830067,
                    0.08811163468209228,
                    0.08811163468209228,
                    0.08811163468209228,
                    0.08811163468209228,
                    0.08811163468209228,
                    0.08811163468209228,
                    0.08811163468209228,
                    0.08811163468209228,
                    0.08811163468209228,
                    0.08811163468209228,
                    0.08811163468209228,
                    0.08811163468209228,
                    0.08811163468209228,
                    0.08811163468209228,
                    0.08811163468209228,
                    0.08811163468209228,
                    0.08811163468209228,
                    0.08811163468209228,
                    0.08811163468209228,
                    0.08811163468209228,
                    0.00239583333390737,
                    0.008214285717565925,
                    0.008625000001148075,
                    0.008984375003587732,
                    0.008984375003587732,
                    0.014375000005740369,
                    0.014375000005740369,
                    0.017250000006888443,
                    0.017250000006888443,
                    0.020535714293914816,
                    0.028750000011480738,
                    0.02875,
                    0.030803571432671692,
                    0.08811163468209228,
                    0.03593750001435093,
                    0.03593750001435093,
                    0.035937500008610554,
                    0.035937500008610554,
                    0.03833333334864098,
                    0.04107142858782963,
                    0.04107142858782963,
                    0.04107142858782963,
                    0.04107142858782963,
                    0.04107142858782963,
                    0.04312500001722111,
                    0.04312500001722111,
                    0.04312500001722111,
                    0.04312500001722111,
                    0.04312500001722111,
                    0.04312500001722111,
                    0.043125,
                    0.043125,
                    0.043125,
                    0.043125,
                    0.043125,
                    0.043125,
                    0.04312500000574037,
                    0.046000000000000006,
                    0.05324074076200137,
                    0.04791666668580123,
                    0.04791666668580123,
                    0.07187500002870185,
                    0.057500000022961475,
                    0.11500000004592294,
                    0.07187500002870185,
                    0.07187500002870185,
                    0.07986111114300204,
                    0.08214285717565926,
                    0.08214285717565926,
                    0.0862500000574037,
                    0.0862500000574037,
                    0.09583333337160246,
                    0.09583333337160246,
                    0.11500000004592295,
                    0.11500000004592295,
                    0.11500000004592295,
                    0.11500000004592295,
                    0.11500000004592295,
                    0.1437500000574037,
                    0.1437500000574037,
                    0.1437500000574037,
                    0.14375000003826913,
                    0.14375000003826913,
                    0.1437500000574037,
                    0.17250000006888444,
                    0.08811163468209228,
                    0.1916666667432049,
                    0.20535714293914814,
                    0.2300000000918459,
                    0.2300000000918459,
                    0.2875000001148074,
                    0.2875000001148074,
                    0.08811163468209228,
                    0.08811163468209228,
                    0.3593750000861055,
                    0.08811163468209228,
                    0.34848484857762213,
                    0.08811163468209228,
                    0.41071428582362607,
                    0.41071428582362607,
                    null,
                    null,
                    1,
                    null,
                    0.08811163468209228,
                    0.08811163468209228,
                    0.08811163468209228
                  ],
                  "yaxis": "y"
                },
                {
                  "hovertemplate": "variable=V_NaOH<br>index=%{x}<br>value=%{y}<extra></extra>",
                  "legendgroup": "V_NaOH",
                  "line": {
                    "color": "#EF553B",
                    "dash": "solid"
                  },
                  "marker": {
                    "symbol": "circle"
                  },
                  "mode": "lines",
                  "name": "V_NaOH",
                  "orientation": "v",
                  "showlegend": true,
                  "type": "scatter",
                  "x": [
                    0,
                    1,
                    2,
                    3,
                    4,
                    5,
                    6,
                    7,
                    8,
                    9,
                    10,
                    11,
                    12,
                    13,
                    14,
                    15,
                    16,
                    17,
                    18,
                    19,
                    20,
                    21,
                    22,
                    23,
                    24,
                    25,
                    26,
                    27,
                    28,
                    29,
                    30,
                    31,
                    32,
                    33,
                    34,
                    35,
                    36,
                    37,
                    38,
                    39,
                    40,
                    41,
                    42,
                    43,
                    44,
                    45,
                    46,
                    47,
                    48,
                    49,
                    50,
                    51,
                    52,
                    53,
                    54,
                    55,
                    56,
                    57,
                    58,
                    59,
                    60,
                    61,
                    62,
                    63,
                    64,
                    65,
                    66,
                    67,
                    68,
                    69,
                    70,
                    71,
                    72,
                    73,
                    74,
                    75,
                    76,
                    77,
                    78,
                    79,
                    80,
                    81,
                    82,
                    83,
                    84,
                    85,
                    86,
                    87,
                    88,
                    89,
                    90,
                    91,
                    92,
                    93,
                    94,
                    95,
                    96,
                    97,
                    98,
                    99,
                    100,
                    101,
                    102,
                    103,
                    104,
                    105,
                    106,
                    107,
                    108,
                    109,
                    110,
                    111,
                    112,
                    113,
                    114,
                    115,
                    116,
                    117,
                    118,
                    119,
                    120,
                    121
                  ],
                  "xaxis": "x",
                  "y": [
                    0.09,
                    null,
                    null,
                    null,
                    null,
                    null,
                    null,
                    null,
                    null,
                    null,
                    null,
                    null,
                    null,
                    null,
                    null,
                    null,
                    null,
                    null,
                    null,
                    null,
                    null,
                    null,
                    null,
                    null,
                    null,
                    null,
                    null,
                    null,
                    null,
                    null,
                    null,
                    null,
                    null,
                    null,
                    null,
                    0.3,
                    0.035,
                    0.05,
                    0.016,
                    0.016,
                    0.02,
                    0.02,
                    0.05,
                    0.05,
                    0.07,
                    0.05,
                    0.08,
                    0.14,
                    0.02,
                    0.04,
                    0.08,
                    0.2,
                    0.2,
                    0.075,
                    0.07,
                    0.07,
                    0.07,
                    0.14,
                    0.14,
                    0.02,
                    0.02,
                    0.02,
                    0.02,
                    0.02,
                    0.02,
                    0.08,
                    0.08,
                    0.08,
                    0.08,
                    0.08,
                    0.08,
                    0.1,
                    0.05,
                    0.03,
                    0.06,
                    0.12,
                    0.01,
                    0.1,
                    0.5,
                    0.02,
                    0.08,
                    0.18,
                    0.07,
                    0.07,
                    0.3,
                    0.3,
                    0.06,
                    0.06,
                    0.05,
                    0.05,
                    0.05,
                    0.05,
                    0.05,
                    0.02,
                    0.02,
                    0.04,
                    0.12,
                    0.12,
                    1,
                    0.05,
                    0.005,
                    0.3,
                    0.07,
                    0.025,
                    0.025,
                    0.01,
                    0.02,
                    0.1,
                    0.15,
                    0.02,
                    null,
                    0.033,
                    0.05,
                    0.028,
                    0.028,
                    null,
                    null,
                    0.023,
                    null,
                    0.02,
                    0.02,
                    0.049
                  ],
                  "yaxis": "y"
                },
                {
                  "hovertemplate": "variable=size_std<br>index=%{x}<br>value=%{y}<extra></extra>",
                  "legendgroup": "size_std",
                  "line": {
                    "color": "#00cc96",
                    "dash": "solid"
                  },
                  "marker": {
                    "symbol": "circle"
                  },
                  "mode": "lines",
                  "name": "size_std",
                  "orientation": "v",
                  "showlegend": true,
                  "type": "scatter",
                  "x": [
                    0,
                    1,
                    2,
                    3,
                    4,
                    5,
                    6,
                    7,
                    8,
                    9,
                    10,
                    11,
                    12,
                    13,
                    14,
                    15,
                    16,
                    17,
                    18,
                    19,
                    20,
                    21,
                    22,
                    23,
                    24,
                    25,
                    26,
                    27,
                    28,
                    29,
                    30,
                    31,
                    32,
                    33,
                    34,
                    35,
                    36,
                    37,
                    38,
                    39,
                    40,
                    41,
                    42,
                    43,
                    44,
                    45,
                    46,
                    47,
                    48,
                    49,
                    50,
                    51,
                    52,
                    53,
                    54,
                    55,
                    56,
                    57,
                    58,
                    59,
                    60,
                    61,
                    62,
                    63,
                    64,
                    65,
                    66,
                    67,
                    68,
                    69,
                    70,
                    71,
                    72,
                    73,
                    74,
                    75,
                    76,
                    77,
                    78,
                    79,
                    80,
                    81,
                    82,
                    83,
                    84,
                    85,
                    86,
                    87,
                    88,
                    89,
                    90,
                    91,
                    92,
                    93,
                    94,
                    95,
                    96,
                    97,
                    98,
                    99,
                    100,
                    101,
                    102,
                    103,
                    104,
                    105,
                    106,
                    107,
                    108,
                    109,
                    110,
                    111,
                    112,
                    113,
                    114,
                    115,
                    116,
                    117,
                    118,
                    119,
                    120,
                    121
                  ],
                  "xaxis": "x",
                  "y": [
                    0.08571428571428572,
                    0,
                    0.7142857142857143,
                    0,
                    0,
                    0.7428571428571429,
                    0,
                    0,
                    0,
                    0.5714285714285714,
                    0.011428571428571429,
                    0.005714285714285714,
                    0.37142857142857144,
                    0.5714285714285714,
                    0.05714285714285714,
                    0.8571428571428571,
                    0.04,
                    0,
                    0.22857142857142856,
                    0.011428571428571429,
                    0,
                    0.011428571428571429,
                    0.008571428571428572,
                    0,
                    0,
                    0,
                    0,
                    0.02,
                    0.008571428571428572,
                    0,
                    0.05714285714285714,
                    0.05714285714285714,
                    0.05714285714285714,
                    0.14285714285714285,
                    0.22857142857142856,
                    0,
                    0,
                    0,
                    0,
                    0.9571428571428572,
                    0.08571428571428572,
                    0.5714285714285714,
                    0.08571428571428572,
                    0.08571428571428572,
                    0.42857142857142855,
                    0.014285714285714285,
                    0.017142857142857144,
                    0.014285714285714285,
                    0,
                    0.03428571428571429,
                    0.22857142857142856,
                    0,
                    0.02857142857142857,
                    0.05714285714285714,
                    0.14285714285714285,
                    0.014285714285714285,
                    0,
                    0,
                    0,
                    0.05714285714285714,
                    0,
                    0.005714285714285714,
                    0,
                    0.07142857142857142,
                    0.014285714285714285,
                    1,
                    0.6857142857142857,
                    0,
                    0,
                    0,
                    0,
                    0,
                    0.17142857142857143,
                    0,
                    0,
                    0.011428571428571429,
                    0.2,
                    0,
                    0,
                    0,
                    0,
                    0,
                    0,
                    0.008571428571428572,
                    0,
                    0.008571428571428572,
                    0,
                    0,
                    0.08571428571428572,
                    0.7142857142857143,
                    0,
                    0.2,
                    0.7142857142857143,
                    0,
                    0.02857142857142857,
                    0,
                    0,
                    0,
                    0.002857142857142857,
                    0.05714285714285714,
                    0.017142857142857144,
                    0.03428571428571429,
                    0,
                    0,
                    0.11428571428571428,
                    0,
                    0,
                    0,
                    0.008571428571428572,
                    0,
                    0.005714285714285714,
                    0.05714285714285714,
                    0.014285714285714285,
                    0.02857142857142857,
                    0,
                    0,
                    0,
                    0.02,
                    0,
                    0.008571428571428572,
                    0.2571428571428571,
                    0
                  ],
                  "yaxis": "y"
                }
              ],
              "layout": {
                "legend": {
                  "title": {
                    "text": "variable"
                  },
                  "tracegroupgap": 0
                },
                "margin": {
                  "t": 60
                },
                "template": {
                  "data": {
                    "bar": [
                      {
                        "error_x": {
                          "color": "#2a3f5f"
                        },
                        "error_y": {
                          "color": "#2a3f5f"
                        },
                        "marker": {
                          "line": {
                            "color": "#E5ECF6",
                            "width": 0.5
                          },
                          "pattern": {
                            "fillmode": "overlay",
                            "size": 10,
                            "solidity": 0.2
                          }
                        },
                        "type": "bar"
                      }
                    ],
                    "barpolar": [
                      {
                        "marker": {
                          "line": {
                            "color": "#E5ECF6",
                            "width": 0.5
                          },
                          "pattern": {
                            "fillmode": "overlay",
                            "size": 10,
                            "solidity": 0.2
                          }
                        },
                        "type": "barpolar"
                      }
                    ],
                    "carpet": [
                      {
                        "aaxis": {
                          "endlinecolor": "#2a3f5f",
                          "gridcolor": "white",
                          "linecolor": "white",
                          "minorgridcolor": "white",
                          "startlinecolor": "#2a3f5f"
                        },
                        "baxis": {
                          "endlinecolor": "#2a3f5f",
                          "gridcolor": "white",
                          "linecolor": "white",
                          "minorgridcolor": "white",
                          "startlinecolor": "#2a3f5f"
                        },
                        "type": "carpet"
                      }
                    ],
                    "choropleth": [
                      {
                        "colorbar": {
                          "outlinewidth": 0,
                          "ticks": ""
                        },
                        "type": "choropleth"
                      }
                    ],
                    "contour": [
                      {
                        "colorbar": {
                          "outlinewidth": 0,
                          "ticks": ""
                        },
                        "colorscale": [
                          [
                            0,
                            "#0d0887"
                          ],
                          [
                            0.1111111111111111,
                            "#46039f"
                          ],
                          [
                            0.2222222222222222,
                            "#7201a8"
                          ],
                          [
                            0.3333333333333333,
                            "#9c179e"
                          ],
                          [
                            0.4444444444444444,
                            "#bd3786"
                          ],
                          [
                            0.5555555555555556,
                            "#d8576b"
                          ],
                          [
                            0.6666666666666666,
                            "#ed7953"
                          ],
                          [
                            0.7777777777777778,
                            "#fb9f3a"
                          ],
                          [
                            0.8888888888888888,
                            "#fdca26"
                          ],
                          [
                            1,
                            "#f0f921"
                          ]
                        ],
                        "type": "contour"
                      }
                    ],
                    "contourcarpet": [
                      {
                        "colorbar": {
                          "outlinewidth": 0,
                          "ticks": ""
                        },
                        "type": "contourcarpet"
                      }
                    ],
                    "heatmap": [
                      {
                        "colorbar": {
                          "outlinewidth": 0,
                          "ticks": ""
                        },
                        "colorscale": [
                          [
                            0,
                            "#0d0887"
                          ],
                          [
                            0.1111111111111111,
                            "#46039f"
                          ],
                          [
                            0.2222222222222222,
                            "#7201a8"
                          ],
                          [
                            0.3333333333333333,
                            "#9c179e"
                          ],
                          [
                            0.4444444444444444,
                            "#bd3786"
                          ],
                          [
                            0.5555555555555556,
                            "#d8576b"
                          ],
                          [
                            0.6666666666666666,
                            "#ed7953"
                          ],
                          [
                            0.7777777777777778,
                            "#fb9f3a"
                          ],
                          [
                            0.8888888888888888,
                            "#fdca26"
                          ],
                          [
                            1,
                            "#f0f921"
                          ]
                        ],
                        "type": "heatmap"
                      }
                    ],
                    "heatmapgl": [
                      {
                        "colorbar": {
                          "outlinewidth": 0,
                          "ticks": ""
                        },
                        "colorscale": [
                          [
                            0,
                            "#0d0887"
                          ],
                          [
                            0.1111111111111111,
                            "#46039f"
                          ],
                          [
                            0.2222222222222222,
                            "#7201a8"
                          ],
                          [
                            0.3333333333333333,
                            "#9c179e"
                          ],
                          [
                            0.4444444444444444,
                            "#bd3786"
                          ],
                          [
                            0.5555555555555556,
                            "#d8576b"
                          ],
                          [
                            0.6666666666666666,
                            "#ed7953"
                          ],
                          [
                            0.7777777777777778,
                            "#fb9f3a"
                          ],
                          [
                            0.8888888888888888,
                            "#fdca26"
                          ],
                          [
                            1,
                            "#f0f921"
                          ]
                        ],
                        "type": "heatmapgl"
                      }
                    ],
                    "histogram": [
                      {
                        "marker": {
                          "pattern": {
                            "fillmode": "overlay",
                            "size": 10,
                            "solidity": 0.2
                          }
                        },
                        "type": "histogram"
                      }
                    ],
                    "histogram2d": [
                      {
                        "colorbar": {
                          "outlinewidth": 0,
                          "ticks": ""
                        },
                        "colorscale": [
                          [
                            0,
                            "#0d0887"
                          ],
                          [
                            0.1111111111111111,
                            "#46039f"
                          ],
                          [
                            0.2222222222222222,
                            "#7201a8"
                          ],
                          [
                            0.3333333333333333,
                            "#9c179e"
                          ],
                          [
                            0.4444444444444444,
                            "#bd3786"
                          ],
                          [
                            0.5555555555555556,
                            "#d8576b"
                          ],
                          [
                            0.6666666666666666,
                            "#ed7953"
                          ],
                          [
                            0.7777777777777778,
                            "#fb9f3a"
                          ],
                          [
                            0.8888888888888888,
                            "#fdca26"
                          ],
                          [
                            1,
                            "#f0f921"
                          ]
                        ],
                        "type": "histogram2d"
                      }
                    ],
                    "histogram2dcontour": [
                      {
                        "colorbar": {
                          "outlinewidth": 0,
                          "ticks": ""
                        },
                        "colorscale": [
                          [
                            0,
                            "#0d0887"
                          ],
                          [
                            0.1111111111111111,
                            "#46039f"
                          ],
                          [
                            0.2222222222222222,
                            "#7201a8"
                          ],
                          [
                            0.3333333333333333,
                            "#9c179e"
                          ],
                          [
                            0.4444444444444444,
                            "#bd3786"
                          ],
                          [
                            0.5555555555555556,
                            "#d8576b"
                          ],
                          [
                            0.6666666666666666,
                            "#ed7953"
                          ],
                          [
                            0.7777777777777778,
                            "#fb9f3a"
                          ],
                          [
                            0.8888888888888888,
                            "#fdca26"
                          ],
                          [
                            1,
                            "#f0f921"
                          ]
                        ],
                        "type": "histogram2dcontour"
                      }
                    ],
                    "mesh3d": [
                      {
                        "colorbar": {
                          "outlinewidth": 0,
                          "ticks": ""
                        },
                        "type": "mesh3d"
                      }
                    ],
                    "parcoords": [
                      {
                        "line": {
                          "colorbar": {
                            "outlinewidth": 0,
                            "ticks": ""
                          }
                        },
                        "type": "parcoords"
                      }
                    ],
                    "pie": [
                      {
                        "automargin": true,
                        "type": "pie"
                      }
                    ],
                    "scatter": [
                      {
                        "marker": {
                          "colorbar": {
                            "outlinewidth": 0,
                            "ticks": ""
                          }
                        },
                        "type": "scatter"
                      }
                    ],
                    "scatter3d": [
                      {
                        "line": {
                          "colorbar": {
                            "outlinewidth": 0,
                            "ticks": ""
                          }
                        },
                        "marker": {
                          "colorbar": {
                            "outlinewidth": 0,
                            "ticks": ""
                          }
                        },
                        "type": "scatter3d"
                      }
                    ],
                    "scattercarpet": [
                      {
                        "marker": {
                          "colorbar": {
                            "outlinewidth": 0,
                            "ticks": ""
                          }
                        },
                        "type": "scattercarpet"
                      }
                    ],
                    "scattergeo": [
                      {
                        "marker": {
                          "colorbar": {
                            "outlinewidth": 0,
                            "ticks": ""
                          }
                        },
                        "type": "scattergeo"
                      }
                    ],
                    "scattergl": [
                      {
                        "marker": {
                          "colorbar": {
                            "outlinewidth": 0,
                            "ticks": ""
                          }
                        },
                        "type": "scattergl"
                      }
                    ],
                    "scattermapbox": [
                      {
                        "marker": {
                          "colorbar": {
                            "outlinewidth": 0,
                            "ticks": ""
                          }
                        },
                        "type": "scattermapbox"
                      }
                    ],
                    "scatterpolar": [
                      {
                        "marker": {
                          "colorbar": {
                            "outlinewidth": 0,
                            "ticks": ""
                          }
                        },
                        "type": "scatterpolar"
                      }
                    ],
                    "scatterpolargl": [
                      {
                        "marker": {
                          "colorbar": {
                            "outlinewidth": 0,
                            "ticks": ""
                          }
                        },
                        "type": "scatterpolargl"
                      }
                    ],
                    "scatterternary": [
                      {
                        "marker": {
                          "colorbar": {
                            "outlinewidth": 0,
                            "ticks": ""
                          }
                        },
                        "type": "scatterternary"
                      }
                    ],
                    "surface": [
                      {
                        "colorbar": {
                          "outlinewidth": 0,
                          "ticks": ""
                        },
                        "colorscale": [
                          [
                            0,
                            "#0d0887"
                          ],
                          [
                            0.1111111111111111,
                            "#46039f"
                          ],
                          [
                            0.2222222222222222,
                            "#7201a8"
                          ],
                          [
                            0.3333333333333333,
                            "#9c179e"
                          ],
                          [
                            0.4444444444444444,
                            "#bd3786"
                          ],
                          [
                            0.5555555555555556,
                            "#d8576b"
                          ],
                          [
                            0.6666666666666666,
                            "#ed7953"
                          ],
                          [
                            0.7777777777777778,
                            "#fb9f3a"
                          ],
                          [
                            0.8888888888888888,
                            "#fdca26"
                          ],
                          [
                            1,
                            "#f0f921"
                          ]
                        ],
                        "type": "surface"
                      }
                    ],
                    "table": [
                      {
                        "cells": {
                          "fill": {
                            "color": "#EBF0F8"
                          },
                          "line": {
                            "color": "white"
                          }
                        },
                        "header": {
                          "fill": {
                            "color": "#C8D4E3"
                          },
                          "line": {
                            "color": "white"
                          }
                        },
                        "type": "table"
                      }
                    ]
                  },
                  "layout": {
                    "annotationdefaults": {
                      "arrowcolor": "#2a3f5f",
                      "arrowhead": 0,
                      "arrowwidth": 1
                    },
                    "autotypenumbers": "strict",
                    "coloraxis": {
                      "colorbar": {
                        "outlinewidth": 0,
                        "ticks": ""
                      }
                    },
                    "colorscale": {
                      "diverging": [
                        [
                          0,
                          "#8e0152"
                        ],
                        [
                          0.1,
                          "#c51b7d"
                        ],
                        [
                          0.2,
                          "#de77ae"
                        ],
                        [
                          0.3,
                          "#f1b6da"
                        ],
                        [
                          0.4,
                          "#fde0ef"
                        ],
                        [
                          0.5,
                          "#f7f7f7"
                        ],
                        [
                          0.6,
                          "#e6f5d0"
                        ],
                        [
                          0.7,
                          "#b8e186"
                        ],
                        [
                          0.8,
                          "#7fbc41"
                        ],
                        [
                          0.9,
                          "#4d9221"
                        ],
                        [
                          1,
                          "#276419"
                        ]
                      ],
                      "sequential": [
                        [
                          0,
                          "#0d0887"
                        ],
                        [
                          0.1111111111111111,
                          "#46039f"
                        ],
                        [
                          0.2222222222222222,
                          "#7201a8"
                        ],
                        [
                          0.3333333333333333,
                          "#9c179e"
                        ],
                        [
                          0.4444444444444444,
                          "#bd3786"
                        ],
                        [
                          0.5555555555555556,
                          "#d8576b"
                        ],
                        [
                          0.6666666666666666,
                          "#ed7953"
                        ],
                        [
                          0.7777777777777778,
                          "#fb9f3a"
                        ],
                        [
                          0.8888888888888888,
                          "#fdca26"
                        ],
                        [
                          1,
                          "#f0f921"
                        ]
                      ],
                      "sequentialminus": [
                        [
                          0,
                          "#0d0887"
                        ],
                        [
                          0.1111111111111111,
                          "#46039f"
                        ],
                        [
                          0.2222222222222222,
                          "#7201a8"
                        ],
                        [
                          0.3333333333333333,
                          "#9c179e"
                        ],
                        [
                          0.4444444444444444,
                          "#bd3786"
                        ],
                        [
                          0.5555555555555556,
                          "#d8576b"
                        ],
                        [
                          0.6666666666666666,
                          "#ed7953"
                        ],
                        [
                          0.7777777777777778,
                          "#fb9f3a"
                        ],
                        [
                          0.8888888888888888,
                          "#fdca26"
                        ],
                        [
                          1,
                          "#f0f921"
                        ]
                      ]
                    },
                    "colorway": [
                      "#636efa",
                      "#EF553B",
                      "#00cc96",
                      "#ab63fa",
                      "#FFA15A",
                      "#19d3f3",
                      "#FF6692",
                      "#B6E880",
                      "#FF97FF",
                      "#FECB52"
                    ],
                    "font": {
                      "color": "#2a3f5f"
                    },
                    "geo": {
                      "bgcolor": "white",
                      "lakecolor": "white",
                      "landcolor": "#E5ECF6",
                      "showlakes": true,
                      "showland": true,
                      "subunitcolor": "white"
                    },
                    "hoverlabel": {
                      "align": "left"
                    },
                    "hovermode": "closest",
                    "mapbox": {
                      "style": "light"
                    },
                    "paper_bgcolor": "white",
                    "plot_bgcolor": "#E5ECF6",
                    "polar": {
                      "angularaxis": {
                        "gridcolor": "white",
                        "linecolor": "white",
                        "ticks": ""
                      },
                      "bgcolor": "#E5ECF6",
                      "radialaxis": {
                        "gridcolor": "white",
                        "linecolor": "white",
                        "ticks": ""
                      }
                    },
                    "scene": {
                      "xaxis": {
                        "backgroundcolor": "#E5ECF6",
                        "gridcolor": "white",
                        "gridwidth": 2,
                        "linecolor": "white",
                        "showbackground": true,
                        "ticks": "",
                        "zerolinecolor": "white"
                      },
                      "yaxis": {
                        "backgroundcolor": "#E5ECF6",
                        "gridcolor": "white",
                        "gridwidth": 2,
                        "linecolor": "white",
                        "showbackground": true,
                        "ticks": "",
                        "zerolinecolor": "white"
                      },
                      "zaxis": {
                        "backgroundcolor": "#E5ECF6",
                        "gridcolor": "white",
                        "gridwidth": 2,
                        "linecolor": "white",
                        "showbackground": true,
                        "ticks": "",
                        "zerolinecolor": "white"
                      }
                    },
                    "shapedefaults": {
                      "line": {
                        "color": "#2a3f5f"
                      }
                    },
                    "ternary": {
                      "aaxis": {
                        "gridcolor": "white",
                        "linecolor": "white",
                        "ticks": ""
                      },
                      "baxis": {
                        "gridcolor": "white",
                        "linecolor": "white",
                        "ticks": ""
                      },
                      "bgcolor": "#E5ECF6",
                      "caxis": {
                        "gridcolor": "white",
                        "linecolor": "white",
                        "ticks": ""
                      }
                    },
                    "title": {
                      "x": 0.05
                    },
                    "xaxis": {
                      "automargin": true,
                      "gridcolor": "white",
                      "linecolor": "white",
                      "ticks": "",
                      "title": {
                        "standoff": 15
                      },
                      "zerolinecolor": "white",
                      "zerolinewidth": 2
                    },
                    "yaxis": {
                      "automargin": true,
                      "gridcolor": "white",
                      "linecolor": "white",
                      "ticks": "",
                      "title": {
                        "standoff": 15
                      },
                      "zerolinecolor": "white",
                      "zerolinewidth": 2
                    }
                  }
                },
                "xaxis": {
                  "anchor": "y",
                  "domain": [
                    0,
                    1
                  ],
                  "title": {
                    "text": "index"
                  }
                },
                "yaxis": {
                  "anchor": "x",
                  "domain": [
                    0,
                    1
                  ],
                  "title": {
                    "text": "value"
                  }
                }
              }
            }
          },
          "metadata": {},
          "output_type": "display_data"
        }
      ],
      "source": [
        "import plotly.express as px\n",
        "\n",
        "fig = px.line(df, x=df.index, y=['prop_TiO2/NaOH','V_NaOH','size_std'])\n",
        "fig.show()\n"
      ]
    },
    {
      "cell_type": "code",
      "execution_count": 149,
      "metadata": {
        "colab": {
          "base_uri": "https://localhost:8080/"
        },
        "id": "iKiKY83s0BqC",
        "outputId": "59653146-2a49-407b-a096-ffcceac075ee"
      },
      "outputs": [
        {
          "data": {
            "text/plain": [
              "n_TiO2            float64\n",
              "mol_NaOH          float64\n",
              "V_NaOH            float64\n",
              "[NaOH]            float64\n",
              "T                 float64\n",
              "t                 float64\n",
              "what_washed        object\n",
              "washed_time       float64\n",
              "dried_T           float64\n",
              "dried_t           float64\n",
              "calcinate_T       float64\n",
              "calcinate_t       float64\n",
              "morpho             object\n",
              "size(nm)           object\n",
              "prop_TiO2/NaOH    float64\n",
              "size_mean         float64\n",
              "size_std          float64\n",
              "dtype: object"
            ]
          },
          "execution_count": 149,
          "metadata": {},
          "output_type": "execute_result"
        }
      ],
      "source": [
        "df.dtypes"
      ]
    },
    {
      "cell_type": "markdown",
      "metadata": {
        "id": "iQwMWt2zeoub"
      },
      "source": [
        "# Para análise quantitativa: Tamanho"
      ]
    },
    {
      "cell_type": "markdown",
      "metadata": {
        "id": "4Z0ux0kBeQmC"
      },
      "source": [
        "## Tratando Nulos"
      ]
    },
    {
      "cell_type": "code",
      "execution_count": 150,
      "metadata": {
        "colab": {
          "base_uri": "https://localhost:8080/"
        },
        "id": "Q47WvxpmPMaZ",
        "outputId": "3ecfcb21-5d0f-463c-dfe2-7d994024ce2c"
      },
      "outputs": [
        {
          "data": {
            "text/plain": [
              "n_TiO2            0.024590\n",
              "mol_NaOH          0.024590\n",
              "V_NaOH            0.311475\n",
              "[NaOH]            0.024590\n",
              "T                 0.024590\n",
              "t                 0.032787\n",
              "what_washed       0.032787\n",
              "washed_time       0.778689\n",
              "dried_T           0.426230\n",
              "dried_t           0.598361\n",
              "calcinate_T       0.065574\n",
              "calcinate_t       0.573770\n",
              "morpho            0.024590\n",
              "size(nm)          0.024590\n",
              "prop_TiO2/NaOH    0.024590\n",
              "size_mean         0.024590\n",
              "size_std          0.000000\n",
              "dtype: float64"
            ]
          },
          "execution_count": 150,
          "metadata": {},
          "output_type": "execute_result"
        }
      ],
      "source": [
        "df.apply(pd.isnull).sum()/df.shape[0]"
      ]
    },
    {
      "cell_type": "code",
      "execution_count": 181,
      "metadata": {},
      "outputs": [],
      "source": [
        "df = df.dropna(subset=['prop_TiO2/NaOH','T','t','size_mean'])"
      ]
    },
    {
      "cell_type": "markdown",
      "metadata": {
        "id": "eWMZ8S1Kgeyn"
      },
      "source": [
        "usando apenas colunas sem nulos"
      ]
    },
    {
      "cell_type": "code",
      "execution_count": 183,
      "metadata": {
        "colab": {
          "base_uri": "https://localhost:8080/",
          "height": 424
        },
        "id": "R49Gb1JSe-82",
        "outputId": "7e238e16-5479-46fc-c7a3-574ad8053973"
      },
      "outputs": [
        {
          "data": {
            "text/html": [
              "<div>\n",
              "<style scoped>\n",
              "    .dataframe tbody tr th:only-of-type {\n",
              "        vertical-align: middle;\n",
              "    }\n",
              "\n",
              "    .dataframe tbody tr th {\n",
              "        vertical-align: top;\n",
              "    }\n",
              "\n",
              "    .dataframe thead th {\n",
              "        text-align: right;\n",
              "    }\n",
              "</style>\n",
              "<table border=\"1\" class=\"dataframe\">\n",
              "  <thead>\n",
              "    <tr style=\"text-align: right;\">\n",
              "      <th></th>\n",
              "      <th>prop_TiO2/NaOH</th>\n",
              "      <th>T</th>\n",
              "      <th>t</th>\n",
              "      <th>size_mean</th>\n",
              "    </tr>\n",
              "  </thead>\n",
              "  <tbody>\n",
              "    <tr>\n",
              "      <th>0</th>\n",
              "      <td>0.087255</td>\n",
              "      <td>0.52</td>\n",
              "      <td>0.705882</td>\n",
              "      <td>0.13750</td>\n",
              "    </tr>\n",
              "    <tr>\n",
              "      <th>1</th>\n",
              "      <td>0.006452</td>\n",
              "      <td>0.96</td>\n",
              "      <td>0.011765</td>\n",
              "      <td>0.02250</td>\n",
              "    </tr>\n",
              "    <tr>\n",
              "      <th>2</th>\n",
              "      <td>0.006452</td>\n",
              "      <td>0.96</td>\n",
              "      <td>0.017647</td>\n",
              "      <td>0.43750</td>\n",
              "    </tr>\n",
              "    <tr>\n",
              "      <th>3</th>\n",
              "      <td>0.016129</td>\n",
              "      <td>0.88</td>\n",
              "      <td>0.117647</td>\n",
              "      <td>0.15000</td>\n",
              "    </tr>\n",
              "    <tr>\n",
              "      <th>4</th>\n",
              "      <td>0.016129</td>\n",
              "      <td>0.64</td>\n",
              "      <td>0.117647</td>\n",
              "      <td>0.02500</td>\n",
              "    </tr>\n",
              "    <tr>\n",
              "      <th>...</th>\n",
              "      <td>...</td>\n",
              "      <td>...</td>\n",
              "      <td>...</td>\n",
              "      <td>...</td>\n",
              "    </tr>\n",
              "    <tr>\n",
              "      <th>114</th>\n",
              "      <td>0.410714</td>\n",
              "      <td>0.60</td>\n",
              "      <td>0.423529</td>\n",
              "      <td>0.02500</td>\n",
              "    </tr>\n",
              "    <tr>\n",
              "      <th>117</th>\n",
              "      <td>1.000000</td>\n",
              "      <td>0.60</td>\n",
              "      <td>0.423529</td>\n",
              "      <td>0.02875</td>\n",
              "    </tr>\n",
              "    <tr>\n",
              "      <th>119</th>\n",
              "      <td>0.088112</td>\n",
              "      <td>0.60</td>\n",
              "      <td>0.070588</td>\n",
              "      <td>0.02125</td>\n",
              "    </tr>\n",
              "    <tr>\n",
              "      <th>120</th>\n",
              "      <td>0.088112</td>\n",
              "      <td>0.80</td>\n",
              "      <td>0.141176</td>\n",
              "      <td>0.13750</td>\n",
              "    </tr>\n",
              "    <tr>\n",
              "      <th>121</th>\n",
              "      <td>0.088112</td>\n",
              "      <td>0.40</td>\n",
              "      <td>0.282353</td>\n",
              "      <td>0.02500</td>\n",
              "    </tr>\n",
              "  </tbody>\n",
              "</table>\n",
              "<p>118 rows × 4 columns</p>\n",
              "</div>"
            ],
            "text/plain": [
              "     prop_TiO2/NaOH     T         t  size_mean\n",
              "0          0.087255  0.52  0.705882    0.13750\n",
              "1          0.006452  0.96  0.011765    0.02250\n",
              "2          0.006452  0.96  0.017647    0.43750\n",
              "3          0.016129  0.88  0.117647    0.15000\n",
              "4          0.016129  0.64  0.117647    0.02500\n",
              "..              ...   ...       ...        ...\n",
              "114        0.410714  0.60  0.423529    0.02500\n",
              "117        1.000000  0.60  0.423529    0.02875\n",
              "119        0.088112  0.60  0.070588    0.02125\n",
              "120        0.088112  0.80  0.141176    0.13750\n",
              "121        0.088112  0.40  0.282353    0.02500\n",
              "\n",
              "[118 rows x 4 columns]"
            ]
          },
          "execution_count": 183,
          "metadata": {},
          "output_type": "execute_result"
        }
      ],
      "source": [
        "\n",
        "df2 = df[['prop_TiO2/NaOH','T','t','size_mean']] # sem os percentuais de titânio!\n",
        "df2"
      ]
    },
    {
      "cell_type": "code",
      "execution_count": null,
      "metadata": {
        "id": "OYuxhfOSeS5x"
      },
      "outputs": [],
      "source": []
    },
    {
      "cell_type": "markdown",
      "metadata": {
        "id": "RVzR9iSBPDmv"
      },
      "source": [
        "## Preparando modelo"
      ]
    },
    {
      "cell_type": "code",
      "execution_count": 184,
      "metadata": {
        "colab": {
          "base_uri": "https://localhost:8080/",
          "height": 542
        },
        "id": "nxThbxCQSMRo",
        "outputId": "87b82412-3ee0-4335-ad2b-84846589a9b3"
      },
      "outputs": [
        {
          "data": {
            "application/vnd.plotly.v1+json": {
              "config": {
                "plotlyServerURL": "https://plot.ly"
              },
              "data": [
                {
                  "alignmentgroup": "True",
                  "hovertemplate": "index=%{x}<br>size_mean=%{y}<extra></extra>",
                  "legendgroup": "",
                  "marker": {
                    "color": "#636efa",
                    "pattern": {
                      "shape": ""
                    }
                  },
                  "name": "",
                  "offsetgroup": "",
                  "orientation": "v",
                  "showlegend": false,
                  "textposition": "auto",
                  "type": "bar",
                  "x": [
                    0,
                    1,
                    2,
                    3,
                    4,
                    5,
                    6,
                    7,
                    8,
                    9,
                    10,
                    11,
                    12,
                    13,
                    14,
                    15,
                    16,
                    17,
                    18,
                    19,
                    20,
                    21,
                    22,
                    23,
                    24,
                    25,
                    26,
                    27,
                    28,
                    29,
                    30,
                    31,
                    32,
                    33,
                    34,
                    35,
                    36,
                    37,
                    38,
                    39,
                    40,
                    41,
                    42,
                    43,
                    44,
                    45,
                    46,
                    47,
                    48,
                    49,
                    50,
                    51,
                    52,
                    53,
                    54,
                    55,
                    56,
                    57,
                    58,
                    59,
                    60,
                    61,
                    62,
                    63,
                    64,
                    65,
                    66,
                    67,
                    68,
                    69,
                    70,
                    71,
                    72,
                    73,
                    74,
                    75,
                    76,
                    77,
                    78,
                    79,
                    80,
                    81,
                    82,
                    83,
                    84,
                    85,
                    86,
                    87,
                    88,
                    89,
                    90,
                    91,
                    92,
                    93,
                    94,
                    95,
                    96,
                    97,
                    98,
                    99,
                    100,
                    101,
                    102,
                    103,
                    104,
                    105,
                    106,
                    108,
                    109,
                    110,
                    111,
                    112,
                    113,
                    114,
                    117,
                    119,
                    120,
                    121
                  ],
                  "xaxis": "x",
                  "y": [
                    0.1375,
                    0.0225,
                    0.4375,
                    0.15,
                    0.025,
                    0.425,
                    0.2,
                    0.0225,
                    0.0625,
                    0.5,
                    0.025,
                    0.0225,
                    0.25,
                    1,
                    0.075,
                    0.425,
                    0.0375,
                    0.225,
                    0.2,
                    0.0225,
                    0.025,
                    0.025,
                    0.01625,
                    0.0175,
                    0.05,
                    0.025,
                    0.025,
                    0.02875,
                    0.02375,
                    0.025,
                    0.075,
                    0.075,
                    0.075,
                    0.1875,
                    0.15,
                    0.025,
                    0.05,
                    0.025,
                    0.025,
                    0.58125,
                    0.0875,
                    0.75,
                    0.0875,
                    0.0875,
                    0.3125,
                    0.03125,
                    0.0275,
                    0.02375,
                    0.0225,
                    0.035,
                    0.15,
                    0.025,
                    0.0375,
                    0.15,
                    0.1875,
                    0.03125,
                    0.0225,
                    0.025,
                    0.125,
                    0.1,
                    0.025,
                    0.0225,
                    0.025,
                    0.04375,
                    0.01875,
                    0.5625,
                    0.45,
                    0.25,
                    0.0375,
                    0.25,
                    0.125,
                    0.0375,
                    0.1,
                    0.025,
                    0.15,
                    0.0225,
                    0.1375,
                    0.025,
                    0.125,
                    0.3,
                    0.025,
                    0.025,
                    0.025,
                    0.02125,
                    0.125,
                    0.02125,
                    0.05,
                    0.0225,
                    0.0875,
                    0.4375,
                    0.025,
                    0.2125,
                    0.4375,
                    0.05,
                    0.0625,
                    0.025,
                    0.1875,
                    0.075,
                    0.03625,
                    0.05,
                    0.0175,
                    0.035,
                    0.3,
                    0.05,
                    0.075,
                    0.02,
                    0.025,
                    0.01625,
                    0.05,
                    0.0275,
                    0.075,
                    0.06875,
                    0.0375,
                    0.025,
                    0.02875,
                    0.02125,
                    0.1375,
                    0.025
                  ],
                  "yaxis": "y"
                }
              ],
              "layout": {
                "barmode": "relative",
                "legend": {
                  "tracegroupgap": 0
                },
                "margin": {
                  "t": 60
                },
                "template": {
                  "data": {
                    "bar": [
                      {
                        "error_x": {
                          "color": "#2a3f5f"
                        },
                        "error_y": {
                          "color": "#2a3f5f"
                        },
                        "marker": {
                          "line": {
                            "color": "#E5ECF6",
                            "width": 0.5
                          },
                          "pattern": {
                            "fillmode": "overlay",
                            "size": 10,
                            "solidity": 0.2
                          }
                        },
                        "type": "bar"
                      }
                    ],
                    "barpolar": [
                      {
                        "marker": {
                          "line": {
                            "color": "#E5ECF6",
                            "width": 0.5
                          },
                          "pattern": {
                            "fillmode": "overlay",
                            "size": 10,
                            "solidity": 0.2
                          }
                        },
                        "type": "barpolar"
                      }
                    ],
                    "carpet": [
                      {
                        "aaxis": {
                          "endlinecolor": "#2a3f5f",
                          "gridcolor": "white",
                          "linecolor": "white",
                          "minorgridcolor": "white",
                          "startlinecolor": "#2a3f5f"
                        },
                        "baxis": {
                          "endlinecolor": "#2a3f5f",
                          "gridcolor": "white",
                          "linecolor": "white",
                          "minorgridcolor": "white",
                          "startlinecolor": "#2a3f5f"
                        },
                        "type": "carpet"
                      }
                    ],
                    "choropleth": [
                      {
                        "colorbar": {
                          "outlinewidth": 0,
                          "ticks": ""
                        },
                        "type": "choropleth"
                      }
                    ],
                    "contour": [
                      {
                        "colorbar": {
                          "outlinewidth": 0,
                          "ticks": ""
                        },
                        "colorscale": [
                          [
                            0,
                            "#0d0887"
                          ],
                          [
                            0.1111111111111111,
                            "#46039f"
                          ],
                          [
                            0.2222222222222222,
                            "#7201a8"
                          ],
                          [
                            0.3333333333333333,
                            "#9c179e"
                          ],
                          [
                            0.4444444444444444,
                            "#bd3786"
                          ],
                          [
                            0.5555555555555556,
                            "#d8576b"
                          ],
                          [
                            0.6666666666666666,
                            "#ed7953"
                          ],
                          [
                            0.7777777777777778,
                            "#fb9f3a"
                          ],
                          [
                            0.8888888888888888,
                            "#fdca26"
                          ],
                          [
                            1,
                            "#f0f921"
                          ]
                        ],
                        "type": "contour"
                      }
                    ],
                    "contourcarpet": [
                      {
                        "colorbar": {
                          "outlinewidth": 0,
                          "ticks": ""
                        },
                        "type": "contourcarpet"
                      }
                    ],
                    "heatmap": [
                      {
                        "colorbar": {
                          "outlinewidth": 0,
                          "ticks": ""
                        },
                        "colorscale": [
                          [
                            0,
                            "#0d0887"
                          ],
                          [
                            0.1111111111111111,
                            "#46039f"
                          ],
                          [
                            0.2222222222222222,
                            "#7201a8"
                          ],
                          [
                            0.3333333333333333,
                            "#9c179e"
                          ],
                          [
                            0.4444444444444444,
                            "#bd3786"
                          ],
                          [
                            0.5555555555555556,
                            "#d8576b"
                          ],
                          [
                            0.6666666666666666,
                            "#ed7953"
                          ],
                          [
                            0.7777777777777778,
                            "#fb9f3a"
                          ],
                          [
                            0.8888888888888888,
                            "#fdca26"
                          ],
                          [
                            1,
                            "#f0f921"
                          ]
                        ],
                        "type": "heatmap"
                      }
                    ],
                    "heatmapgl": [
                      {
                        "colorbar": {
                          "outlinewidth": 0,
                          "ticks": ""
                        },
                        "colorscale": [
                          [
                            0,
                            "#0d0887"
                          ],
                          [
                            0.1111111111111111,
                            "#46039f"
                          ],
                          [
                            0.2222222222222222,
                            "#7201a8"
                          ],
                          [
                            0.3333333333333333,
                            "#9c179e"
                          ],
                          [
                            0.4444444444444444,
                            "#bd3786"
                          ],
                          [
                            0.5555555555555556,
                            "#d8576b"
                          ],
                          [
                            0.6666666666666666,
                            "#ed7953"
                          ],
                          [
                            0.7777777777777778,
                            "#fb9f3a"
                          ],
                          [
                            0.8888888888888888,
                            "#fdca26"
                          ],
                          [
                            1,
                            "#f0f921"
                          ]
                        ],
                        "type": "heatmapgl"
                      }
                    ],
                    "histogram": [
                      {
                        "marker": {
                          "pattern": {
                            "fillmode": "overlay",
                            "size": 10,
                            "solidity": 0.2
                          }
                        },
                        "type": "histogram"
                      }
                    ],
                    "histogram2d": [
                      {
                        "colorbar": {
                          "outlinewidth": 0,
                          "ticks": ""
                        },
                        "colorscale": [
                          [
                            0,
                            "#0d0887"
                          ],
                          [
                            0.1111111111111111,
                            "#46039f"
                          ],
                          [
                            0.2222222222222222,
                            "#7201a8"
                          ],
                          [
                            0.3333333333333333,
                            "#9c179e"
                          ],
                          [
                            0.4444444444444444,
                            "#bd3786"
                          ],
                          [
                            0.5555555555555556,
                            "#d8576b"
                          ],
                          [
                            0.6666666666666666,
                            "#ed7953"
                          ],
                          [
                            0.7777777777777778,
                            "#fb9f3a"
                          ],
                          [
                            0.8888888888888888,
                            "#fdca26"
                          ],
                          [
                            1,
                            "#f0f921"
                          ]
                        ],
                        "type": "histogram2d"
                      }
                    ],
                    "histogram2dcontour": [
                      {
                        "colorbar": {
                          "outlinewidth": 0,
                          "ticks": ""
                        },
                        "colorscale": [
                          [
                            0,
                            "#0d0887"
                          ],
                          [
                            0.1111111111111111,
                            "#46039f"
                          ],
                          [
                            0.2222222222222222,
                            "#7201a8"
                          ],
                          [
                            0.3333333333333333,
                            "#9c179e"
                          ],
                          [
                            0.4444444444444444,
                            "#bd3786"
                          ],
                          [
                            0.5555555555555556,
                            "#d8576b"
                          ],
                          [
                            0.6666666666666666,
                            "#ed7953"
                          ],
                          [
                            0.7777777777777778,
                            "#fb9f3a"
                          ],
                          [
                            0.8888888888888888,
                            "#fdca26"
                          ],
                          [
                            1,
                            "#f0f921"
                          ]
                        ],
                        "type": "histogram2dcontour"
                      }
                    ],
                    "mesh3d": [
                      {
                        "colorbar": {
                          "outlinewidth": 0,
                          "ticks": ""
                        },
                        "type": "mesh3d"
                      }
                    ],
                    "parcoords": [
                      {
                        "line": {
                          "colorbar": {
                            "outlinewidth": 0,
                            "ticks": ""
                          }
                        },
                        "type": "parcoords"
                      }
                    ],
                    "pie": [
                      {
                        "automargin": true,
                        "type": "pie"
                      }
                    ],
                    "scatter": [
                      {
                        "marker": {
                          "colorbar": {
                            "outlinewidth": 0,
                            "ticks": ""
                          }
                        },
                        "type": "scatter"
                      }
                    ],
                    "scatter3d": [
                      {
                        "line": {
                          "colorbar": {
                            "outlinewidth": 0,
                            "ticks": ""
                          }
                        },
                        "marker": {
                          "colorbar": {
                            "outlinewidth": 0,
                            "ticks": ""
                          }
                        },
                        "type": "scatter3d"
                      }
                    ],
                    "scattercarpet": [
                      {
                        "marker": {
                          "colorbar": {
                            "outlinewidth": 0,
                            "ticks": ""
                          }
                        },
                        "type": "scattercarpet"
                      }
                    ],
                    "scattergeo": [
                      {
                        "marker": {
                          "colorbar": {
                            "outlinewidth": 0,
                            "ticks": ""
                          }
                        },
                        "type": "scattergeo"
                      }
                    ],
                    "scattergl": [
                      {
                        "marker": {
                          "colorbar": {
                            "outlinewidth": 0,
                            "ticks": ""
                          }
                        },
                        "type": "scattergl"
                      }
                    ],
                    "scattermapbox": [
                      {
                        "marker": {
                          "colorbar": {
                            "outlinewidth": 0,
                            "ticks": ""
                          }
                        },
                        "type": "scattermapbox"
                      }
                    ],
                    "scatterpolar": [
                      {
                        "marker": {
                          "colorbar": {
                            "outlinewidth": 0,
                            "ticks": ""
                          }
                        },
                        "type": "scatterpolar"
                      }
                    ],
                    "scatterpolargl": [
                      {
                        "marker": {
                          "colorbar": {
                            "outlinewidth": 0,
                            "ticks": ""
                          }
                        },
                        "type": "scatterpolargl"
                      }
                    ],
                    "scatterternary": [
                      {
                        "marker": {
                          "colorbar": {
                            "outlinewidth": 0,
                            "ticks": ""
                          }
                        },
                        "type": "scatterternary"
                      }
                    ],
                    "surface": [
                      {
                        "colorbar": {
                          "outlinewidth": 0,
                          "ticks": ""
                        },
                        "colorscale": [
                          [
                            0,
                            "#0d0887"
                          ],
                          [
                            0.1111111111111111,
                            "#46039f"
                          ],
                          [
                            0.2222222222222222,
                            "#7201a8"
                          ],
                          [
                            0.3333333333333333,
                            "#9c179e"
                          ],
                          [
                            0.4444444444444444,
                            "#bd3786"
                          ],
                          [
                            0.5555555555555556,
                            "#d8576b"
                          ],
                          [
                            0.6666666666666666,
                            "#ed7953"
                          ],
                          [
                            0.7777777777777778,
                            "#fb9f3a"
                          ],
                          [
                            0.8888888888888888,
                            "#fdca26"
                          ],
                          [
                            1,
                            "#f0f921"
                          ]
                        ],
                        "type": "surface"
                      }
                    ],
                    "table": [
                      {
                        "cells": {
                          "fill": {
                            "color": "#EBF0F8"
                          },
                          "line": {
                            "color": "white"
                          }
                        },
                        "header": {
                          "fill": {
                            "color": "#C8D4E3"
                          },
                          "line": {
                            "color": "white"
                          }
                        },
                        "type": "table"
                      }
                    ]
                  },
                  "layout": {
                    "annotationdefaults": {
                      "arrowcolor": "#2a3f5f",
                      "arrowhead": 0,
                      "arrowwidth": 1
                    },
                    "autotypenumbers": "strict",
                    "coloraxis": {
                      "colorbar": {
                        "outlinewidth": 0,
                        "ticks": ""
                      }
                    },
                    "colorscale": {
                      "diverging": [
                        [
                          0,
                          "#8e0152"
                        ],
                        [
                          0.1,
                          "#c51b7d"
                        ],
                        [
                          0.2,
                          "#de77ae"
                        ],
                        [
                          0.3,
                          "#f1b6da"
                        ],
                        [
                          0.4,
                          "#fde0ef"
                        ],
                        [
                          0.5,
                          "#f7f7f7"
                        ],
                        [
                          0.6,
                          "#e6f5d0"
                        ],
                        [
                          0.7,
                          "#b8e186"
                        ],
                        [
                          0.8,
                          "#7fbc41"
                        ],
                        [
                          0.9,
                          "#4d9221"
                        ],
                        [
                          1,
                          "#276419"
                        ]
                      ],
                      "sequential": [
                        [
                          0,
                          "#0d0887"
                        ],
                        [
                          0.1111111111111111,
                          "#46039f"
                        ],
                        [
                          0.2222222222222222,
                          "#7201a8"
                        ],
                        [
                          0.3333333333333333,
                          "#9c179e"
                        ],
                        [
                          0.4444444444444444,
                          "#bd3786"
                        ],
                        [
                          0.5555555555555556,
                          "#d8576b"
                        ],
                        [
                          0.6666666666666666,
                          "#ed7953"
                        ],
                        [
                          0.7777777777777778,
                          "#fb9f3a"
                        ],
                        [
                          0.8888888888888888,
                          "#fdca26"
                        ],
                        [
                          1,
                          "#f0f921"
                        ]
                      ],
                      "sequentialminus": [
                        [
                          0,
                          "#0d0887"
                        ],
                        [
                          0.1111111111111111,
                          "#46039f"
                        ],
                        [
                          0.2222222222222222,
                          "#7201a8"
                        ],
                        [
                          0.3333333333333333,
                          "#9c179e"
                        ],
                        [
                          0.4444444444444444,
                          "#bd3786"
                        ],
                        [
                          0.5555555555555556,
                          "#d8576b"
                        ],
                        [
                          0.6666666666666666,
                          "#ed7953"
                        ],
                        [
                          0.7777777777777778,
                          "#fb9f3a"
                        ],
                        [
                          0.8888888888888888,
                          "#fdca26"
                        ],
                        [
                          1,
                          "#f0f921"
                        ]
                      ]
                    },
                    "colorway": [
                      "#636efa",
                      "#EF553B",
                      "#00cc96",
                      "#ab63fa",
                      "#FFA15A",
                      "#19d3f3",
                      "#FF6692",
                      "#B6E880",
                      "#FF97FF",
                      "#FECB52"
                    ],
                    "font": {
                      "color": "#2a3f5f"
                    },
                    "geo": {
                      "bgcolor": "white",
                      "lakecolor": "white",
                      "landcolor": "#E5ECF6",
                      "showlakes": true,
                      "showland": true,
                      "subunitcolor": "white"
                    },
                    "hoverlabel": {
                      "align": "left"
                    },
                    "hovermode": "closest",
                    "mapbox": {
                      "style": "light"
                    },
                    "paper_bgcolor": "white",
                    "plot_bgcolor": "#E5ECF6",
                    "polar": {
                      "angularaxis": {
                        "gridcolor": "white",
                        "linecolor": "white",
                        "ticks": ""
                      },
                      "bgcolor": "#E5ECF6",
                      "radialaxis": {
                        "gridcolor": "white",
                        "linecolor": "white",
                        "ticks": ""
                      }
                    },
                    "scene": {
                      "xaxis": {
                        "backgroundcolor": "#E5ECF6",
                        "gridcolor": "white",
                        "gridwidth": 2,
                        "linecolor": "white",
                        "showbackground": true,
                        "ticks": "",
                        "zerolinecolor": "white"
                      },
                      "yaxis": {
                        "backgroundcolor": "#E5ECF6",
                        "gridcolor": "white",
                        "gridwidth": 2,
                        "linecolor": "white",
                        "showbackground": true,
                        "ticks": "",
                        "zerolinecolor": "white"
                      },
                      "zaxis": {
                        "backgroundcolor": "#E5ECF6",
                        "gridcolor": "white",
                        "gridwidth": 2,
                        "linecolor": "white",
                        "showbackground": true,
                        "ticks": "",
                        "zerolinecolor": "white"
                      }
                    },
                    "shapedefaults": {
                      "line": {
                        "color": "#2a3f5f"
                      }
                    },
                    "ternary": {
                      "aaxis": {
                        "gridcolor": "white",
                        "linecolor": "white",
                        "ticks": ""
                      },
                      "baxis": {
                        "gridcolor": "white",
                        "linecolor": "white",
                        "ticks": ""
                      },
                      "bgcolor": "#E5ECF6",
                      "caxis": {
                        "gridcolor": "white",
                        "linecolor": "white",
                        "ticks": ""
                      }
                    },
                    "title": {
                      "x": 0.05
                    },
                    "xaxis": {
                      "automargin": true,
                      "gridcolor": "white",
                      "linecolor": "white",
                      "ticks": "",
                      "title": {
                        "standoff": 15
                      },
                      "zerolinecolor": "white",
                      "zerolinewidth": 2
                    },
                    "yaxis": {
                      "automargin": true,
                      "gridcolor": "white",
                      "linecolor": "white",
                      "ticks": "",
                      "title": {
                        "standoff": 15
                      },
                      "zerolinecolor": "white",
                      "zerolinewidth": 2
                    }
                  }
                },
                "xaxis": {
                  "anchor": "y",
                  "domain": [
                    0,
                    1
                  ],
                  "title": {
                    "text": "index"
                  }
                },
                "yaxis": {
                  "anchor": "x",
                  "domain": [
                    0,
                    1
                  ],
                  "title": {
                    "text": "size_mean"
                  }
                }
              }
            }
          },
          "metadata": {},
          "output_type": "display_data"
        }
      ],
      "source": [
        "import plotly.express as px\n",
        "\n",
        "fig = px.bar(df, x=df.index, y='size_mean')\n",
        "fig.show()"
      ]
    },
    {
      "cell_type": "code",
      "execution_count": 185,
      "metadata": {
        "id": "3cRCjCgveC_N"
      },
      "outputs": [],
      "source": [
        "\n",
        "#x=pd.DataFrame(df2.iloc[:, 0:-1].values,columns=['[NaOH]','T','t','calcinate_T'])\n",
        "x=df2.iloc[:, 0:-1].values"
      ]
    },
    {
      "cell_type": "code",
      "execution_count": 186,
      "metadata": {
        "id": "OBW-l9ixijAg"
      },
      "outputs": [],
      "source": [
        "\n",
        "#y = pd.DataFrame(df2.iloc[:,-1].values,columns=['size_mean'])\n",
        "y = df2.iloc[:,-1].values"
      ]
    },
    {
      "cell_type": "code",
      "execution_count": 187,
      "metadata": {
        "id": "TY-N-4vRjkUb"
      },
      "outputs": [],
      "source": [
        "from sklearn.model_selection import train_test_split #classe\n",
        "x_train,x_test,y_train,y_test= train_test_split(x,y,test_size=0.2,random_state=0) # objeto"
      ]
    },
    {
      "cell_type": "code",
      "execution_count": 188,
      "metadata": {
        "colab": {
          "base_uri": "https://localhost:8080/"
        },
        "id": "F1f1gWZDtXbw",
        "outputId": "5df14859-754c-489e-e55d-63c138314145"
      },
      "outputs": [
        {
          "name": "stdout",
          "output_type": "stream",
          "text": [
            "(24, 3) (94, 3)\n"
          ]
        }
      ],
      "source": [
        "print(x_test.shape,x_train.shape)"
      ]
    },
    {
      "cell_type": "code",
      "execution_count": 189,
      "metadata": {
        "colab": {
          "base_uri": "https://localhost:8080/"
        },
        "id": "WCvpfONuSJHR",
        "outputId": "612805a3-e49e-483c-be37-09deb1718ad1"
      },
      "outputs": [
        {
          "data": {
            "text/plain": [
              "Ridge(alpha=0.1)"
            ]
          },
          "execution_count": 189,
          "metadata": {},
          "output_type": "execute_result"
        }
      ],
      "source": [
        "from sklearn.ensemble import RandomForestRegressor\n",
        "from sklearn.linear_model import Ridge\n",
        "#--------------------------------------------------\n",
        "regressorRF = RandomForestRegressor(n_estimators = 11,random_state = 42) \n",
        "regressorRF.fit(x_train, y_train)\n",
        "#---------------------------------------------------\n",
        "regressorRi = Ridge(alpha=.1)\n",
        "regressorRi.fit(x_train, y_train)"
      ]
    },
    {
      "cell_type": "code",
      "execution_count": 190,
      "metadata": {
        "id": "40e1cAgpk1wN"
      },
      "outputs": [],
      "source": [
        "previsao1 = regressorRF.predict(x_test)\n",
        "previsao2 = regressorRi.predict(x_test)"
      ]
    },
    {
      "cell_type": "markdown",
      "metadata": {
        "id": "KgX4CLIemuoA"
      },
      "source": [
        "## Analisando **performance**"
      ]
    },
    {
      "cell_type": "code",
      "execution_count": 191,
      "metadata": {
        "colab": {
          "base_uri": "https://localhost:8080/"
        },
        "id": "0Zg7Dg-smX6B",
        "outputId": "cf26c62a-b8d9-4d97-c0f6-0a6e6fd083ab"
      },
      "outputs": [
        {
          "name": "stdout",
          "output_type": "stream",
          "text": [
            "0.016129165380276485\n",
            "0.013257776873945923\n"
          ]
        }
      ],
      "source": [
        "from sklearn.metrics import mean_squared_error\n",
        "\n",
        "print(mean_squared_error(y_test, previsao1))\n",
        "print(mean_squared_error(y_test, previsao2))"
      ]
    },
    {
      "cell_type": "code",
      "execution_count": null,
      "metadata": {
        "id": "3kN8eL-fxo4B"
      },
      "outputs": [],
      "source": []
    },
    {
      "cell_type": "code",
      "execution_count": 192,
      "metadata": {
        "colab": {
          "base_uri": "https://localhost:8080/"
        },
        "id": "-mwkAy8Ex1y_",
        "outputId": "4a99858d-a42e-42ac-df18-4186b729c964"
      },
      "outputs": [
        {
          "data": {
            "text/plain": [
              "array([0.05   , 0.02125, 0.0625 , 0.0625 , 0.4375 , 0.01625, 0.0225 ,\n",
              "       0.025  , 0.03125, 0.0375 , 0.1875 , 0.075  , 0.4375 , 0.025  ,\n",
              "       0.025  , 0.025  , 0.075  , 0.0875 , 0.125  , 0.0225 , 0.025  ,\n",
              "       0.3    , 0.0375 , 0.05   ])"
            ]
          },
          "execution_count": 192,
          "metadata": {},
          "output_type": "execute_result"
        }
      ],
      "source": [
        "y_test"
      ]
    },
    {
      "cell_type": "code",
      "execution_count": 193,
      "metadata": {
        "id": "hbPm_W8Wm0T-"
      },
      "outputs": [],
      "source": [
        "combined1 = np.concatenate((previsao1.reshape(len(previsao1),1), y_test.reshape(len(y_test),1)),1)\n",
        "\n",
        "combined2 = np.concatenate((previsao2.reshape(len(previsao1),1), y_test.reshape(len(y_test),1)),1)\n",
        "#combined.columns = [\"actual\", \"predictions\"]\n",
        "compara1 = pd.DataFrame(combined1,columns=['pred','atual'])\n",
        "\n",
        "compara2 = pd.DataFrame(combined2,columns=['pred','atual'])\n"
      ]
    },
    {
      "cell_type": "code",
      "execution_count": 194,
      "metadata": {
        "colab": {
          "base_uri": "https://localhost:8080/",
          "height": 530
        },
        "id": "9RkUDI9vsrdk",
        "outputId": "577ede82-f840-4b49-f957-70d143bf45ca"
      },
      "outputs": [
        {
          "data": {
            "text/plain": [
              "<AxesSubplot:>"
            ]
          },
          "execution_count": 194,
          "metadata": {},
          "output_type": "execute_result"
        },
        {
          "data": {
            "image/png": "[encoded data removed]",
            "text/plain": [
              "<Figure size 432x288 with 1 Axes>"
            ]
          },
          "metadata": {
            "needs_background": "light"
          },
          "output_type": "display_data"
        },
        {
          "data": {
            "image/png": "[encoded data removed]",
            "text/plain": [
              "<Figure size 432x288 with 1 Axes>"
            ]
          },
          "metadata": {
            "needs_background": "light"
          },
          "output_type": "display_data"
        }
      ],
      "source": [
        "compara1.plot() #Random Forest\n",
        "compara2.plot() #Ridge"
      ]
    },
    {
      "cell_type": "code",
      "execution_count": 196,
      "metadata": {
        "colab": {
          "base_uri": "https://localhost:8080/",
          "height": 542
        },
        "id": "BTCknSkn6q2R",
        "outputId": "1ac5ba9d-0bd9-45f7-9542-ff94b13782b4"
      },
      "outputs": [
        {
          "data": {
            "application/vnd.plotly.v1+json": {
              "config": {
                "plotlyServerURL": "https://plot.ly"
              },
              "data": [
                {
                  "hovertemplate": "variable=atual<br>index=%{x}<br>value=%{y}<extra></extra>",
                  "legendgroup": "atual",
                  "line": {
                    "color": "#636efa",
                    "dash": "solid"
                  },
                  "marker": {
                    "symbol": "circle"
                  },
                  "mode": "lines",
                  "name": "atual",
                  "orientation": "v",
                  "showlegend": true,
                  "type": "scatter",
                  "x": [
                    0,
                    1,
                    2,
                    3,
                    4,
                    5,
                    6,
                    7,
                    8,
                    9,
                    10,
                    11,
                    12,
                    13,
                    14,
                    15,
                    16,
                    17,
                    18,
                    19,
                    20,
                    21,
                    22,
                    23
                  ],
                  "xaxis": "x",
                  "y": [
                    0.05,
                    0.02125,
                    0.0625,
                    0.0625,
                    0.4375,
                    0.01625,
                    0.0225,
                    0.025,
                    0.03125,
                    0.0375,
                    0.1875,
                    0.075,
                    0.4375,
                    0.025,
                    0.025,
                    0.025,
                    0.075,
                    0.0875,
                    0.125,
                    0.0225,
                    0.025,
                    0.3,
                    0.0375,
                    0.05
                  ],
                  "yaxis": "y"
                },
                {
                  "hovertemplate": "variable=pred<br>index=%{x}<br>value=%{y}<extra></extra>",
                  "legendgroup": "pred",
                  "line": {
                    "color": "#EF553B",
                    "dash": "solid"
                  },
                  "marker": {
                    "symbol": "circle"
                  },
                  "mode": "lines",
                  "name": "pred",
                  "orientation": "v",
                  "showlegend": true,
                  "type": "scatter",
                  "x": [
                    0,
                    1,
                    2,
                    3,
                    4,
                    5,
                    6,
                    7,
                    8,
                    9,
                    10,
                    11,
                    12,
                    13,
                    14,
                    15,
                    16,
                    17,
                    18,
                    19,
                    20,
                    21,
                    22,
                    23
                  ],
                  "xaxis": "x",
                  "y": [
                    0.213344973073898,
                    0.0956229586976717,
                    0.0998469588662827,
                    0.19843164738062335,
                    0.06705387184552769,
                    0.0803854798946605,
                    0.10366705094915082,
                    0.05010293577793695,
                    0.1165229328136563,
                    0.0726916132683934,
                    0.16460300641167508,
                    0.11084853174901252,
                    0.2588736754743416,
                    0.08074183880885968,
                    0.040744347839674316,
                    0.12833237690611723,
                    0.1249618743566889,
                    0.1309913288271359,
                    0.17303462030517214,
                    0.05524539637036627,
                    0.15010327487291247,
                    0.13656330879967746,
                    0.11815600944717478,
                    0.11815600944717478
                  ],
                  "yaxis": "y"
                }
              ],
              "layout": {
                "legend": {
                  "title": {
                    "text": "variable"
                  },
                  "tracegroupgap": 0
                },
                "margin": {
                  "t": 60
                },
                "template": {
                  "data": {
                    "bar": [
                      {
                        "error_x": {
                          "color": "#2a3f5f"
                        },
                        "error_y": {
                          "color": "#2a3f5f"
                        },
                        "marker": {
                          "line": {
                            "color": "#E5ECF6",
                            "width": 0.5
                          },
                          "pattern": {
                            "fillmode": "overlay",
                            "size": 10,
                            "solidity": 0.2
                          }
                        },
                        "type": "bar"
                      }
                    ],
                    "barpolar": [
                      {
                        "marker": {
                          "line": {
                            "color": "#E5ECF6",
                            "width": 0.5
                          },
                          "pattern": {
                            "fillmode": "overlay",
                            "size": 10,
                            "solidity": 0.2
                          }
                        },
                        "type": "barpolar"
                      }
                    ],
                    "carpet": [
                      {
                        "aaxis": {
                          "endlinecolor": "#2a3f5f",
                          "gridcolor": "white",
                          "linecolor": "white",
                          "minorgridcolor": "white",
                          "startlinecolor": "#2a3f5f"
                        },
                        "baxis": {
                          "endlinecolor": "#2a3f5f",
                          "gridcolor": "white",
                          "linecolor": "white",
                          "minorgridcolor": "white",
                          "startlinecolor": "#2a3f5f"
                        },
                        "type": "carpet"
                      }
                    ],
                    "choropleth": [
                      {
                        "colorbar": {
                          "outlinewidth": 0,
                          "ticks": ""
                        },
                        "type": "choropleth"
                      }
                    ],
                    "contour": [
                      {
                        "colorbar": {
                          "outlinewidth": 0,
                          "ticks": ""
                        },
                        "colorscale": [
                          [
                            0,
                            "#0d0887"
                          ],
                          [
                            0.1111111111111111,
                            "#46039f"
                          ],
                          [
                            0.2222222222222222,
                            "#7201a8"
                          ],
                          [
                            0.3333333333333333,
                            "#9c179e"
                          ],
                          [
                            0.4444444444444444,
                            "#bd3786"
                          ],
                          [
                            0.5555555555555556,
                            "#d8576b"
                          ],
                          [
                            0.6666666666666666,
                            "#ed7953"
                          ],
                          [
                            0.7777777777777778,
                            "#fb9f3a"
                          ],
                          [
                            0.8888888888888888,
                            "#fdca26"
                          ],
                          [
                            1,
                            "#f0f921"
                          ]
                        ],
                        "type": "contour"
                      }
                    ],
                    "contourcarpet": [
                      {
                        "colorbar": {
                          "outlinewidth": 0,
                          "ticks": ""
                        },
                        "type": "contourcarpet"
                      }
                    ],
                    "heatmap": [
                      {
                        "colorbar": {
                          "outlinewidth": 0,
                          "ticks": ""
                        },
                        "colorscale": [
                          [
                            0,
                            "#0d0887"
                          ],
                          [
                            0.1111111111111111,
                            "#46039f"
                          ],
                          [
                            0.2222222222222222,
                            "#7201a8"
                          ],
                          [
                            0.3333333333333333,
                            "#9c179e"
                          ],
                          [
                            0.4444444444444444,
                            "#bd3786"
                          ],
                          [
                            0.5555555555555556,
                            "#d8576b"
                          ],
                          [
                            0.6666666666666666,
                            "#ed7953"
                          ],
                          [
                            0.7777777777777778,
                            "#fb9f3a"
                          ],
                          [
                            0.8888888888888888,
                            "#fdca26"
                          ],
                          [
                            1,
                            "#f0f921"
                          ]
                        ],
                        "type": "heatmap"
                      }
                    ],
                    "heatmapgl": [
                      {
                        "colorbar": {
                          "outlinewidth": 0,
                          "ticks": ""
                        },
                        "colorscale": [
                          [
                            0,
                            "#0d0887"
                          ],
                          [
                            0.1111111111111111,
                            "#46039f"
                          ],
                          [
                            0.2222222222222222,
                            "#7201a8"
                          ],
                          [
                            0.3333333333333333,
                            "#9c179e"
                          ],
                          [
                            0.4444444444444444,
                            "#bd3786"
                          ],
                          [
                            0.5555555555555556,
                            "#d8576b"
                          ],
                          [
                            0.6666666666666666,
                            "#ed7953"
                          ],
                          [
                            0.7777777777777778,
                            "#fb9f3a"
                          ],
                          [
                            0.8888888888888888,
                            "#fdca26"
                          ],
                          [
                            1,
                            "#f0f921"
                          ]
                        ],
                        "type": "heatmapgl"
                      }
                    ],
                    "histogram": [
                      {
                        "marker": {
                          "pattern": {
                            "fillmode": "overlay",
                            "size": 10,
                            "solidity": 0.2
                          }
                        },
                        "type": "histogram"
                      }
                    ],
                    "histogram2d": [
                      {
                        "colorbar": {
                          "outlinewidth": 0,
                          "ticks": ""
                        },
                        "colorscale": [
                          [
                            0,
                            "#0d0887"
                          ],
                          [
                            0.1111111111111111,
                            "#46039f"
                          ],
                          [
                            0.2222222222222222,
                            "#7201a8"
                          ],
                          [
                            0.3333333333333333,
                            "#9c179e"
                          ],
                          [
                            0.4444444444444444,
                            "#bd3786"
                          ],
                          [
                            0.5555555555555556,
                            "#d8576b"
                          ],
                          [
                            0.6666666666666666,
                            "#ed7953"
                          ],
                          [
                            0.7777777777777778,
                            "#fb9f3a"
                          ],
                          [
                            0.8888888888888888,
                            "#fdca26"
                          ],
                          [
                            1,
                            "#f0f921"
                          ]
                        ],
                        "type": "histogram2d"
                      }
                    ],
                    "histogram2dcontour": [
                      {
                        "colorbar": {
                          "outlinewidth": 0,
                          "ticks": ""
                        },
                        "colorscale": [
                          [
                            0,
                            "#0d0887"
                          ],
                          [
                            0.1111111111111111,
                            "#46039f"
                          ],
                          [
                            0.2222222222222222,
                            "#7201a8"
                          ],
                          [
                            0.3333333333333333,
                            "#9c179e"
                          ],
                          [
                            0.4444444444444444,
                            "#bd3786"
                          ],
                          [
                            0.5555555555555556,
                            "#d8576b"
                          ],
                          [
                            0.6666666666666666,
                            "#ed7953"
                          ],
                          [
                            0.7777777777777778,
                            "#fb9f3a"
                          ],
                          [
                            0.8888888888888888,
                            "#fdca26"
                          ],
                          [
                            1,
                            "#f0f921"
                          ]
                        ],
                        "type": "histogram2dcontour"
                      }
                    ],
                    "mesh3d": [
                      {
                        "colorbar": {
                          "outlinewidth": 0,
                          "ticks": ""
                        },
                        "type": "mesh3d"
                      }
                    ],
                    "parcoords": [
                      {
                        "line": {
                          "colorbar": {
                            "outlinewidth": 0,
                            "ticks": ""
                          }
                        },
                        "type": "parcoords"
                      }
                    ],
                    "pie": [
                      {
                        "automargin": true,
                        "type": "pie"
                      }
                    ],
                    "scatter": [
                      {
                        "marker": {
                          "colorbar": {
                            "outlinewidth": 0,
                            "ticks": ""
                          }
                        },
                        "type": "scatter"
                      }
                    ],
                    "scatter3d": [
                      {
                        "line": {
                          "colorbar": {
                            "outlinewidth": 0,
                            "ticks": ""
                          }
                        },
                        "marker": {
                          "colorbar": {
                            "outlinewidth": 0,
                            "ticks": ""
                          }
                        },
                        "type": "scatter3d"
                      }
                    ],
                    "scattercarpet": [
                      {
                        "marker": {
                          "colorbar": {
                            "outlinewidth": 0,
                            "ticks": ""
                          }
                        },
                        "type": "scattercarpet"
                      }
                    ],
                    "scattergeo": [
                      {
                        "marker": {
                          "colorbar": {
                            "outlinewidth": 0,
                            "ticks": ""
                          }
                        },
                        "type": "scattergeo"
                      }
                    ],
                    "scattergl": [
                      {
                        "marker": {
                          "colorbar": {
                            "outlinewidth": 0,
                            "ticks": ""
                          }
                        },
                        "type": "scattergl"
                      }
                    ],
                    "scattermapbox": [
                      {
                        "marker": {
                          "colorbar": {
                            "outlinewidth": 0,
                            "ticks": ""
                          }
                        },
                        "type": "scattermapbox"
                      }
                    ],
                    "scatterpolar": [
                      {
                        "marker": {
                          "colorbar": {
                            "outlinewidth": 0,
                            "ticks": ""
                          }
                        },
                        "type": "scatterpolar"
                      }
                    ],
                    "scatterpolargl": [
                      {
                        "marker": {
                          "colorbar": {
                            "outlinewidth": 0,
                            "ticks": ""
                          }
                        },
                        "type": "scatterpolargl"
                      }
                    ],
                    "scatterternary": [
                      {
                        "marker": {
                          "colorbar": {
                            "outlinewidth": 0,
                            "ticks": ""
                          }
                        },
                        "type": "scatterternary"
                      }
                    ],
                    "surface": [
                      {
                        "colorbar": {
                          "outlinewidth": 0,
                          "ticks": ""
                        },
                        "colorscale": [
                          [
                            0,
                            "#0d0887"
                          ],
                          [
                            0.1111111111111111,
                            "#46039f"
                          ],
                          [
                            0.2222222222222222,
                            "#7201a8"
                          ],
                          [
                            0.3333333333333333,
                            "#9c179e"
                          ],
                          [
                            0.4444444444444444,
                            "#bd3786"
                          ],
                          [
                            0.5555555555555556,
                            "#d8576b"
                          ],
                          [
                            0.6666666666666666,
                            "#ed7953"
                          ],
                          [
                            0.7777777777777778,
                            "#fb9f3a"
                          ],
                          [
                            0.8888888888888888,
                            "#fdca26"
                          ],
                          [
                            1,
                            "#f0f921"
                          ]
                        ],
                        "type": "surface"
                      }
                    ],
                    "table": [
                      {
                        "cells": {
                          "fill": {
                            "color": "#EBF0F8"
                          },
                          "line": {
                            "color": "white"
                          }
                        },
                        "header": {
                          "fill": {
                            "color": "#C8D4E3"
                          },
                          "line": {
                            "color": "white"
                          }
                        },
                        "type": "table"
                      }
                    ]
                  },
                  "layout": {
                    "annotationdefaults": {
                      "arrowcolor": "#2a3f5f",
                      "arrowhead": 0,
                      "arrowwidth": 1
                    },
                    "autotypenumbers": "strict",
                    "coloraxis": {
                      "colorbar": {
                        "outlinewidth": 0,
                        "ticks": ""
                      }
                    },
                    "colorscale": {
                      "diverging": [
                        [
                          0,
                          "#8e0152"
                        ],
                        [
                          0.1,
                          "#c51b7d"
                        ],
                        [
                          0.2,
                          "#de77ae"
                        ],
                        [
                          0.3,
                          "#f1b6da"
                        ],
                        [
                          0.4,
                          "#fde0ef"
                        ],
                        [
                          0.5,
                          "#f7f7f7"
                        ],
                        [
                          0.6,
                          "#e6f5d0"
                        ],
                        [
                          0.7,
                          "#b8e186"
                        ],
                        [
                          0.8,
                          "#7fbc41"
                        ],
                        [
                          0.9,
                          "#4d9221"
                        ],
                        [
                          1,
                          "#276419"
                        ]
                      ],
                      "sequential": [
                        [
                          0,
                          "#0d0887"
                        ],
                        [
                          0.1111111111111111,
                          "#46039f"
                        ],
                        [
                          0.2222222222222222,
                          "#7201a8"
                        ],
                        [
                          0.3333333333333333,
                          "#9c179e"
                        ],
                        [
                          0.4444444444444444,
                          "#bd3786"
                        ],
                        [
                          0.5555555555555556,
                          "#d8576b"
                        ],
                        [
                          0.6666666666666666,
                          "#ed7953"
                        ],
                        [
                          0.7777777777777778,
                          "#fb9f3a"
                        ],
                        [
                          0.8888888888888888,
                          "#fdca26"
                        ],
                        [
                          1,
                          "#f0f921"
                        ]
                      ],
                      "sequentialminus": [
                        [
                          0,
                          "#0d0887"
                        ],
                        [
                          0.1111111111111111,
                          "#46039f"
                        ],
                        [
                          0.2222222222222222,
                          "#7201a8"
                        ],
                        [
                          0.3333333333333333,
                          "#9c179e"
                        ],
                        [
                          0.4444444444444444,
                          "#bd3786"
                        ],
                        [
                          0.5555555555555556,
                          "#d8576b"
                        ],
                        [
                          0.6666666666666666,
                          "#ed7953"
                        ],
                        [
                          0.7777777777777778,
                          "#fb9f3a"
                        ],
                        [
                          0.8888888888888888,
                          "#fdca26"
                        ],
                        [
                          1,
                          "#f0f921"
                        ]
                      ]
                    },
                    "colorway": [
                      "#636efa",
                      "#EF553B",
                      "#00cc96",
                      "#ab63fa",
                      "#FFA15A",
                      "#19d3f3",
                      "#FF6692",
                      "#B6E880",
                      "#FF97FF",
                      "#FECB52"
                    ],
                    "font": {
                      "color": "#2a3f5f"
                    },
                    "geo": {
                      "bgcolor": "white",
                      "lakecolor": "white",
                      "landcolor": "#E5ECF6",
                      "showlakes": true,
                      "showland": true,
                      "subunitcolor": "white"
                    },
                    "hoverlabel": {
                      "align": "left"
                    },
                    "hovermode": "closest",
                    "mapbox": {
                      "style": "light"
                    },
                    "paper_bgcolor": "white",
                    "plot_bgcolor": "#E5ECF6",
                    "polar": {
                      "angularaxis": {
                        "gridcolor": "white",
                        "linecolor": "white",
                        "ticks": ""
                      },
                      "bgcolor": "#E5ECF6",
                      "radialaxis": {
                        "gridcolor": "white",
                        "linecolor": "white",
                        "ticks": ""
                      }
                    },
                    "scene": {
                      "xaxis": {
                        "backgroundcolor": "#E5ECF6",
                        "gridcolor": "white",
                        "gridwidth": 2,
                        "linecolor": "white",
                        "showbackground": true,
                        "ticks": "",
                        "zerolinecolor": "white"
                      },
                      "yaxis": {
                        "backgroundcolor": "#E5ECF6",
                        "gridcolor": "white",
                        "gridwidth": 2,
                        "linecolor": "white",
                        "showbackground": true,
                        "ticks": "",
                        "zerolinecolor": "white"
                      },
                      "zaxis": {
                        "backgroundcolor": "#E5ECF6",
                        "gridcolor": "white",
                        "gridwidth": 2,
                        "linecolor": "white",
                        "showbackground": true,
                        "ticks": "",
                        "zerolinecolor": "white"
                      }
                    },
                    "shapedefaults": {
                      "line": {
                        "color": "#2a3f5f"
                      }
                    },
                    "ternary": {
                      "aaxis": {
                        "gridcolor": "white",
                        "linecolor": "white",
                        "ticks": ""
                      },
                      "baxis": {
                        "gridcolor": "white",
                        "linecolor": "white",
                        "ticks": ""
                      },
                      "bgcolor": "#E5ECF6",
                      "caxis": {
                        "gridcolor": "white",
                        "linecolor": "white",
                        "ticks": ""
                      }
                    },
                    "title": {
                      "x": 0.05
                    },
                    "xaxis": {
                      "automargin": true,
                      "gridcolor": "white",
                      "linecolor": "white",
                      "ticks": "",
                      "title": {
                        "standoff": 15
                      },
                      "zerolinecolor": "white",
                      "zerolinewidth": 2
                    },
                    "yaxis": {
                      "automargin": true,
                      "gridcolor": "white",
                      "linecolor": "white",
                      "ticks": "",
                      "title": {
                        "standoff": 15
                      },
                      "zerolinecolor": "white",
                      "zerolinewidth": 2
                    }
                  }
                },
                "xaxis": {
                  "anchor": "y",
                  "domain": [
                    0,
                    1
                  ],
                  "title": {
                    "text": "index"
                  }
                },
                "yaxis": {
                  "anchor": "x",
                  "domain": [
                    0,
                    1
                  ],
                  "title": {
                    "text": "value"
                  }
                }
              }
            }
          },
          "metadata": {},
          "output_type": "display_data"
        }
      ],
      "source": [
        "import plotly.express as px\n",
        "\n",
        "fig = px.line(compara2, x=compara2.index, y=['atual','pred'])\n",
        "fig.show() "
      ]
    }
  ],
  "metadata": {
    "colab": {
      "collapsed_sections": [
        "CiTtv1NUPW2c",
        "8_XLYrMkQ_DH",
        "0pQ7lF0sm-Pe"
      ],
      "provenance": []
    },
    "kernelspec": {
      "display_name": "Python 3.9.12 ('base')",
      "language": "python",
      "name": "python3"
    },
    "language_info": {
      "codemirror_mode": {
        "name": "ipython",
        "version": 3
      },
      "file_extension": ".py",
      "mimetype": "text/x-python",
      "name": "python",
      "nbconvert_exporter": "python",
      "pygments_lexer": "ipython3",
      "version": "3.9.12"
    },
    "vscode": {
      "interpreter": {
        "hash": "337856ca320c77dabe128f9b92c03251c8ba85b6c075b83022e7d94cb82c8777"
      }
    }
  },
  "nbformat": 4,
  "nbformat_minor": 0
}
